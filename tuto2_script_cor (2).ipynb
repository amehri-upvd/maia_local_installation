{
 "cells": [
  {
   "cell_type": "markdown",
   "id": "b7a85033",
   "metadata": {},
   "source": [
    "\n",
    "# Post-processing Volumetric CFD Data with maia : Surface extraction and Vizualization "
   ]
  },
  {
   "cell_type": "markdown",
   "id": "e684624f",
   "metadata": {},
   "source": [
    "## Introduction\n",
    "\n",
    "In this tutorial, we demonstrate how to perform distributed post-processing of CFD simulation results using **maia**, a Python/C++ library for parallel CGNS tree manipulation. The input is a volumetric mesh tree dispersed across MPI processes, obtained from a CFD solver, and stored in the CGNS format.\n",
    "\n",
    "The objective is to extract a surfacic mesh that corresponds to wall boundaries (designated by the \"Walls\" family), collect and combine the related physical fields (such as skin friction and pressure), and get the data ready for export or visualization.\n",
    "\n",
    "After completing this lesson, you will be able to: \n",
    "- Use maia and `mpi4py` to load and examine a distributed CGNS mesh,\n",
    "- Using family tags, extract a surface mesh from a volumetric tree,\n",
    "- Consolidate dispersed field data into a single FlowSolution container,\n",
    "- For post-processing tools, save the resultant data to a new CGNS file.\n",
    "\n",
    "This practical example offers an introduction to using maia to write scalable post-processing scripts in a parallel computing environment."
   ]
  },
  {
   "cell_type": "markdown",
   "id": "6031c765",
   "metadata": {},
   "source": [
    "## Step 1 -- import modules\n",
    "\n",
    "Maia operates in parallel! The so-called COMM_WORLD communicator must be imported from mpi4py first because practically all functions require an MPI communicator.\n",
    "\n",
    "We need to import others python modules like numpy, sys, and mtplotlib."
   ]
  },
  {
   "cell_type": "code",
   "execution_count": 1,
   "id": "37dc9115",
   "metadata": {
    "execution": {
     "iopub.execute_input": "2025-05-20T09:04:45.900733Z",
     "iopub.status.busy": "2025-05-20T09:04:45.900527Z",
     "iopub.status.idle": "2025-05-20T09:04:46.388921Z",
     "shell.execute_reply": "2025-05-20T09:04:46.388159Z"
    }
   },
   "outputs": [],
   "source": [
    "import numpy as np\n",
    "from mpi4py import MPI\n",
    "import sys\n",
    "import matplotlib.pyplot as plt\n",
    "comm = MPI.COMM_WORLD"
   ]
  },
  {
   "cell_type": "markdown",
   "id": "6ce08518",
   "metadata": {},
   "source": [
    "Open the documentation that will be useful for this TP first: /Maia/1.3/index.html https://onera.github.io\n",
    "Take a brief look at the structure of the various modules (UserManual) and the definition of parallel CGNSTree (Introducion > Maia CGNS Tree). Then, import maia and the module pytree of maia"
   ]
  },
  {
   "cell_type": "code",
   "execution_count": 2,
   "id": "08e6ca9e",
   "metadata": {
    "execution": {
     "iopub.execute_input": "2025-05-20T09:04:46.392216Z",
     "iopub.status.busy": "2025-05-20T09:04:46.391942Z",
     "iopub.status.idle": "2025-05-20T09:04:50.291703Z",
     "shell.execute_reply": "2025-05-20T09:04:50.291007Z"
    },
    "lines_to_next_cell": 1
   },
   "outputs": [],
   "source": [
    "import maia\n",
    "import maia.pytree as PT"
   ]
  },
  {
   "cell_type": "markdown",
   "id": "1dded750",
   "metadata": {},
   "source": [
    "Step 3 -- Uncompress Tress"
   ]
  },
  {
   "cell_type": "markdown",
   "id": "6d307aa1",
   "metadata": {},
   "source": [
    "Cgns files are stored in this directory:"
   ]
  },
  {
   "cell_type": "code",
   "execution_count": 3,
   "id": "50fe2f36",
   "metadata": {},
   "outputs": [],
   "source": [
    "CASE_DIR = '/home/jcoulet/Public/maia_training/MESHES'"
   ]
  },
  {
   "cell_type": "code",
   "execution_count": 4,
   "id": "2f47a904",
   "metadata": {},
   "outputs": [],
   "source": [
    "def uncompress_tree():\n",
    "    \"\"\" Tree has been stored with R4 arrays and Std elements format to\n",
    "    reduce file size. This function reput it in NG format \"\"\"\n",
    "    from pathlib import Path\n",
    "    filepath = Path(CASE_DIR) / 'airplane.cgns'\n",
    "    if not filepath.exists():\n",
    "        if comm.rank == 0:\n",
    "            print(\"MISSING FILE -- Regenerate case\")\n",
    "        elt_filepath = Path(CASE_DIR) / 'airplane_eltR4.cgns'\n",
    "        tree  = maia.io.file_to_dist_tree(elt_filepath, comm)\n",
    "        for array in PT.get_nodes_from_label(tree, 'DataArray_t'):\n",
    "            if PT.get_value_type(array) == 'R4':\n",
    "                PT.set_value(array, PT.get_value(array).astype(float))\n",
    "        maia.algo.dist.convert_elements_to_ngon(tree, comm)\n",
    "        maia.io.dist_tree_to_file(tree, filepath, comm)"
   ]
  },
  {
   "cell_type": "markdown",
   "id": "7257a79c",
   "metadata": {},
   "source": [
    "## Step 2 -- Partitionned tree\n",
    "\n",
    "Create a function that can :\n",
    "- Load the file airplane.cgns.\n",
    "- Convert the file into a distributed CGNSree (tree).\n",
    "- Partition the distributed tree by calling maia.factory.partition_dist_tree, which produce a partitionned tree suitable for parralle computation. \n",
    "- Return the partitioned tree (ptree).\n"
   ]
  },
  {
   "cell_type": "code",
   "execution_count": 5,
   "id": "c0691e63",
   "metadata": {
    "execution": {
     "iopub.execute_input": "2025-05-20T09:04:50.294683Z",
     "iopub.status.busy": "2025-05-20T09:04:50.294465Z",
     "iopub.status.idle": "2025-05-20T09:04:50.298289Z",
     "shell.execute_reply": "2025-05-20T09:04:50.297682Z"
    },
    "lines_to_next_cell": 1
   },
   "outputs": [],
   "source": [
    "def get_solver_tree():\n",
    "    uncompress_tree()\n",
    "    tree  = maia.io.file_to_dist_tree(CASE_DIR + '/airplane.cgns', comm)\n",
    "    ptree = maia.factory.partition_dist_tree(tree, comm, data_transfer='FIELDS')\n",
    "    return ptree"
   ]
  },
  {
   "cell_type": "markdown",
   "id": "fc2cc780",
   "metadata": {},
   "source": [
    "## Step 3 -- Plot Field \n",
    "\n",
    "Create the plot_1d_profile function that:\n",
    "- Has these arguments : local arrays x (positions), f (field values), the communicator comm, the label for the x-axis, and the label for the y-axis.\n",
    "- Gathers the data to rank 0, where it concatenates the arrays and plots f versus x using matplotlib.\n",
    "- Customize axis labels with xlabel and ylabel.\n",
    "- Only rank 0 creates the plot. "
   ]
  },
  {
   "cell_type": "code",
   "execution_count": 6,
   "id": "5e881737",
   "metadata": {
    "execution": {
     "iopub.execute_input": "2025-05-20T09:04:50.300807Z",
     "iopub.status.busy": "2025-05-20T09:04:50.300591Z",
     "iopub.status.idle": "2025-05-20T09:04:50.305843Z",
     "shell.execute_reply": "2025-05-20T09:04:50.305115Z"
    },
    "lines_to_next_cell": 1
   },
   "outputs": [],
   "source": [
    "def plot_1d_profile(x, f, comm, xlabel='Pos', ylabel='Field'):\n",
    "    x = comm.gather(x, root=0)\n",
    "    f = comm.gather(f, root=0)\n",
    "    if comm.Get_rank() == 0:\n",
    "        # > Concatenate arrays\n",
    "        x = np.concatenate(x)\n",
    "        f = np.concatenate(f)\n",
    "\n",
    "        # > Plot\n",
    "        fig   = plt.figure()\n",
    "        fig, axes1 = plt.subplots()\n",
    "        axes1.set_xlabel(xlabel)\n",
    "        axes1.set_ylabel(ylabel)\n",
    "        axes1.plot(x, f, 'o')\n",
    "        #plt.show() or\n",
    "        fig.savefig('figure.png', dpi=300)"
   ]
  },
  {
   "cell_type": "markdown",
   "id": "d99a1503",
   "metadata": {},
   "source": [
    "Input of this TP is a volumic tree, as it would come from\n",
    "the solver.\n",
    "Here we get it with the following function :"
   ]
  },
  {
   "cell_type": "code",
   "execution_count": 7,
   "id": "5aa299db",
   "metadata": {
    "execution": {
     "iopub.execute_input": "2025-05-20T09:04:50.308760Z",
     "iopub.status.busy": "2025-05-20T09:04:50.308479Z",
     "iopub.status.idle": "2025-05-20T09:05:05.782824Z",
     "shell.execute_reply": "2025-05-20T09:05:05.782172Z"
    }
   },
   "outputs": [
    {
     "name": "stdout",
     "output_type": "stream",
     "text": [
      "Distributed read of file /home/jcoulet/Public/maia_training/MESHES/airplane.cgns...\n",
      "Read completed (49.97 s) -- Size of dist_tree for current rank is 552.3MiB (Σ=552.3MiB)\n",
      "Partitioning tree of 1 initial block...\n",
      "Partitioning completed (11.05 s) -- Nb of cells for current rank is 4.5M (Σ=4.5M)\n",
      "\u001b[1m\u001b[38;5;33mCGNSTree\u001b[0m \u001b[38;5;246mCGNSTree_t\u001b[0m \n",
      "├───CGNSLibraryVersion \u001b[38;5;246mCGNSLibraryVersion_t\u001b[0m R4 [4.2]\n",
      "└───\u001b[1m\u001b[38;5;33mBase\u001b[0m \u001b[38;5;246mCGNSBase_t\u001b[0m I4 [3 3]\n",
      "    ├───\u001b[1m\u001b[38;5;220mFTF\u001b[0m \u001b[38;5;246mFamily_t\u001b[0m \n",
      "    │   └───FamilyBC \u001b[38;5;246mFamilyBC_t\u001b[0m \"BCWallViscous\"\n",
      "    ├───\u001b[1m\u001b[38;5;220mFarfield\u001b[0m \u001b[38;5;246mFamily_t\u001b[0m \n",
      "    │   └───FamilyBC \u001b[38;5;246mFamilyBC_t\u001b[0m \"BCFarfield\"\n",
      "    ├───\u001b[1m\u001b[38;5;220mFuselage\u001b[0m \u001b[38;5;246mFamily_t\u001b[0m \n",
      "    │   └───FamilyBC \u001b[38;5;246mFamilyBC_t\u001b[0m \"BCWallViscous\"\n",
      "    ├───\u001b[1m\u001b[38;5;220mHTail\u001b[0m \u001b[38;5;246mFamily_t\u001b[0m \n",
      "    │   └───FamilyBC \u001b[38;5;246mFamilyBC_t\u001b[0m \"BCWallViscous\"\n",
      "    ├───\u001b[1m\u001b[38;5;220mSymmetry\u001b[0m \u001b[38;5;246mFamily_t\u001b[0m \n",
      "    │   └───FamilyBC \u001b[38;5;246mFamilyBC_t\u001b[0m \"BCSymmetryPlane\"\n",
      "    ├───\u001b[1m\u001b[38;5;220mVTail\u001b[0m \u001b[38;5;246mFamily_t\u001b[0m \n",
      "    │   └───FamilyBC \u001b[38;5;246mFamilyBC_t\u001b[0m \"BCWallViscous\"\n",
      "    ├───\u001b[1m\u001b[38;5;220mWing\u001b[0m \u001b[38;5;246mFamily_t\u001b[0m \n",
      "    │   └───FamilyBC \u001b[38;5;246mFamilyBC_t\u001b[0m \"BCWallViscous\"\n",
      "    ├───\u001b[1m\u001b[38;5;220mWalls\u001b[0m \u001b[38;5;246mFamily_t\u001b[0m \n",
      "    │   ├───.Solver#Output:forcesWalls \u001b[38;5;246mUserDefinedData_t\u001b[0m \n",
      "    │   │   ├───var \u001b[38;5;246mDataArray_t\u001b[0m \"flux_rou [...]_row\"\n",
      "    │   │   ├───pinf \u001b[38;5;246mDataArray_t\u001b[0m R8 [101325.296875]\n",
      "    │   │   ├───fluxcoeff \u001b[38;5;246mDataArray_t\u001b[0m R8 [0.00051035]\n",
      "    │   │   ├───torquecoeff \u001b[38;5;246mDataArray_t\u001b[0m R8 [0.00121421]\n",
      "    │   │   ├───xtorque \u001b[38;5;246mDataArray_t\u001b[0m R8 [2.02067161]\n",
      "    │   │   ├───ytorque \u001b[38;5;246mDataArray_t\u001b[0m R8 [0.]\n",
      "    │   │   ├───ztorque \u001b[38;5;246mDataArray_t\u001b[0m R8 [0.2711958]\n",
      "    │   │   └───loc \u001b[38;5;246mDataArray_t\u001b[0m \"interface\"\n",
      "    │   └───.Solver#Output:Skin \u001b[38;5;246mUserDefinedData_t\u001b[0m \n",
      "    │       ├───var \u001b[38;5;246mDataArray_t\u001b[0m \"Pressure [...]tude\"\n",
      "    │       ├───loc \u001b[38;5;246mDataArray_t\u001b[0m \"interface\"\n",
      "    │       └───writingmode \u001b[38;5;246mDataArray_t\u001b[0m I4 [1]\n",
      "    └───\u001b[1m\u001b[38;5;33mZone.P0.N0\u001b[0m \u001b[38;5;246mZone_t\u001b[0m I4 [[1481951 4537155       0]]\n",
      "        ├───\u001b[1m\u001b[38;5;183mZoneType\u001b[0m \u001b[38;5;246mZoneType_t\u001b[0m \"Unstructured\"\n",
      "        ├───\u001b[1m\u001b[38;5;183mGridCoordinates\u001b[0m \u001b[38;5;246mGridCoordinates_t\u001b[0m \n",
      "        │   ├───CoordinateX \u001b[38;5;246mDataArray_t\u001b[0m R8 (1481951,)\n",
      "        │   ├───CoordinateY \u001b[38;5;246mDataArray_t\u001b[0m R8 (1481951,)\n",
      "        │   └───CoordinateZ \u001b[38;5;246mDataArray_t\u001b[0m R8 (1481951,)\n",
      "        ├───\u001b[1m\u001b[38;5;183mNGonElements\u001b[0m \u001b[38;5;246mElements_t\u001b[0m I4 [22  0]\n",
      "        │   ├───ElementRange \u001b[38;5;246mIndexRange_t\u001b[0m I4 [       1 10239630]\n",
      "        │   ├───ElementStartOffset \u001b[38;5;246mDataArray_t\u001b[0m I4 (10239631,)\n",
      "        │   ├───ElementConnectivity \u001b[38;5;246mDataArray_t\u001b[0m I4 (33773682,)\n",
      "        │   ├───ParentElements \u001b[38;5;246mDataArray_t\u001b[0m I4 (10239630, 2)\n",
      "        │   └───:CGNS#GlobalNumbering \u001b[38;5;246mUserDefinedData_t\u001b[0m \n",
      "        │       └───Element \u001b[38;5;246mDataArray_t\u001b[0m I4 (10239630,)\n",
      "        ├───\u001b[1m\u001b[38;5;183mNFaceElements\u001b[0m \u001b[38;5;246mElements_t\u001b[0m I4 [23  0]\n",
      "        │   ├───ElementRange \u001b[38;5;246mIndexRange_t\u001b[0m I4 [10239631 14776785]\n",
      "        │   ├───ElementStartOffset \u001b[38;5;246mDataArray_t\u001b[0m I4 (4537156,)\n",
      "        │   ├───ElementConnectivity \u001b[38;5;246mDataArray_t\u001b[0m I4 (20342427,)\n",
      "        │   └───:CGNS#GlobalNumbering \u001b[38;5;246mUserDefinedData_t\u001b[0m \n",
      "        │       └───Element \u001b[38;5;246mDataArray_t\u001b[0m I4 (4537155,)\n",
      "        ├───\u001b[1m\u001b[38;5;183mZoneGridConnectivity\u001b[0m \u001b[38;5;246mZoneGridConnectivity_t\u001b[0m \n",
      "        ├───\u001b[1m\u001b[38;5;183m:CGNS#GlobalNumbering\u001b[0m \u001b[38;5;246mUserDefinedData_t\u001b[0m \n",
      "        │   ├───Vertex \u001b[38;5;246mDataArray_t\u001b[0m I4 (1481951,)\n",
      "        │   └───Cell \u001b[38;5;246mDataArray_t\u001b[0m I4 (4537155,)\n",
      "        ├───\u001b[1m\u001b[38;5;183mZoneBC\u001b[0m \u001b[38;5;246mZoneBC_t\u001b[0m \n",
      "        │   ├───FTF \u001b[38;5;246mBC_t\u001b[0m \"FamilySpecified\"\n",
      "        │   │   ├───GridLocation \u001b[38;5;246mGridLocation_t\u001b[0m \"FaceCenter\"\n",
      "        │   │   ├───PointList \u001b[38;5;246mIndexArray_t\u001b[0m I4 (1, 13827)\n",
      "        │   │   ├───:CGNS#GlobalNumbering \u001b[38;5;246mUserDefinedData_t\u001b[0m \n",
      "        │   │   │   └───Index \u001b[38;5;246mDataArray_t\u001b[0m I4 (13827,)\n",
      "        │   │   ├───FamilyName \u001b[38;5;246mFamilyName_t\u001b[0m \"FTF\"\n",
      "        │   │   ├───AdditionalFamilyName \u001b[38;5;246mAdditionalFamilyName_t\u001b[0m \"Walls\"\n",
      "        │   │   └───BCDataSet:Skin \u001b[38;5;246mBCDataSet_t\u001b[0m \"UserDefined\"\n",
      "        │   │       └───NeumannData \u001b[38;5;246mBCData_t\u001b[0m \n",
      "        │   │           ├───SkinFrictionX \u001b[38;5;246mDataArray_t\u001b[0m R8 (13827,)\n",
      "        │   │           ├───SkinFrictionY \u001b[38;5;246mDataArray_t\u001b[0m R8 (13827,)\n",
      "        │   │           ├───SkinFrictionZ \u001b[38;5;246mDataArray_t\u001b[0m R8 (13827,)\n",
      "        │   │           └───Pressure \u001b[38;5;246mDataArray_t\u001b[0m R8 (13827,)\n",
      "        │   ├───Farfield \u001b[38;5;246mBC_t\u001b[0m \"FamilySpecified\"\n",
      "        │   │   ├───GridLocation \u001b[38;5;246mGridLocation_t\u001b[0m \"FaceCenter\"\n",
      "        │   │   ├───PointList \u001b[38;5;246mIndexArray_t\u001b[0m I4 (1, 68)\n",
      "        │   │   ├───:CGNS#GlobalNumbering \u001b[38;5;246mUserDefinedData_t\u001b[0m \n",
      "        │   │   │   └───Index \u001b[38;5;246mDataArray_t\u001b[0m I4 (68,)\n",
      "        │   │   └───FamilyName \u001b[38;5;246mFamilyName_t\u001b[0m \"Farfield\"\n",
      "        │   ├───Fuselage \u001b[38;5;246mBC_t\u001b[0m \"FamilySpecified\"\n",
      "        │   │   ├───GridLocation \u001b[38;5;246mGridLocation_t\u001b[0m \"FaceCenter\"\n",
      "        │   │   ├───PointList \u001b[38;5;246mIndexArray_t\u001b[0m I4 (1, 26535)\n",
      "        │   │   ├───:CGNS#GlobalNumbering \u001b[38;5;246mUserDefinedData_t\u001b[0m \n",
      "        │   │   │   └───Index \u001b[38;5;246mDataArray_t\u001b[0m I4 (26535,)\n",
      "        │   │   ├───FamilyName \u001b[38;5;246mFamilyName_t\u001b[0m \"Fuselage\"\n",
      "        │   │   ├───AdditionalFamilyName \u001b[38;5;246mAdditionalFamilyName_t\u001b[0m \"Walls\"\n",
      "        │   │   └───BCDataSet:Skin \u001b[38;5;246mBCDataSet_t\u001b[0m \"UserDefined\"\n",
      "        │   │       └───NeumannData \u001b[38;5;246mBCData_t\u001b[0m \n",
      "        │   │           ├───SkinFrictionX \u001b[38;5;246mDataArray_t\u001b[0m R8 (26535,)\n",
      "        │   │           ├───SkinFrictionY \u001b[38;5;246mDataArray_t\u001b[0m R8 (26535,)\n",
      "        │   │           ├───SkinFrictionZ \u001b[38;5;246mDataArray_t\u001b[0m R8 (26535,)\n",
      "        │   │           └───Pressure \u001b[38;5;246mDataArray_t\u001b[0m R8 (26535,)\n",
      "        │   ├───HTail \u001b[38;5;246mBC_t\u001b[0m \"FamilySpecified\"\n",
      "        │   │   ├───GridLocation \u001b[38;5;246mGridLocation_t\u001b[0m \"FaceCenter\"\n",
      "        │   │   ├───PointList \u001b[38;5;246mIndexArray_t\u001b[0m I4 (1, 20108)\n",
      "        │   │   ├───:CGNS#GlobalNumbering \u001b[38;5;246mUserDefinedData_t\u001b[0m \n",
      "        │   │   │   └───Index \u001b[38;5;246mDataArray_t\u001b[0m I4 (20108,)\n",
      "        │   │   ├───FamilyName \u001b[38;5;246mFamilyName_t\u001b[0m \"HTail\"\n",
      "        │   │   ├───AdditionalFamilyName \u001b[38;5;246mAdditionalFamilyName_t\u001b[0m \"Walls\"\n",
      "        │   │   └───BCDataSet:Skin \u001b[38;5;246mBCDataSet_t\u001b[0m \"UserDefined\"\n",
      "        │   │       └───NeumannData \u001b[38;5;246mBCData_t\u001b[0m \n",
      "        │   │           ├───SkinFrictionX \u001b[38;5;246mDataArray_t\u001b[0m R8 (20108,)\n",
      "        │   │           ├───SkinFrictionY \u001b[38;5;246mDataArray_t\u001b[0m R8 (20108,)\n",
      "        │   │           ├───SkinFrictionZ \u001b[38;5;246mDataArray_t\u001b[0m R8 (20108,)\n",
      "        │   │           └───Pressure \u001b[38;5;246mDataArray_t\u001b[0m R8 (20108,)\n",
      "        │   ├───Symmetry \u001b[38;5;246mBC_t\u001b[0m \"FamilySpecified\"\n",
      "        │   │   ├───GridLocation \u001b[38;5;246mGridLocation_t\u001b[0m \"FaceCenter\"\n",
      "        │   │   ├───PointList \u001b[38;5;246mIndexArray_t\u001b[0m I4 (1, 13360)\n",
      "        │   │   ├───:CGNS#GlobalNumbering \u001b[38;5;246mUserDefinedData_t\u001b[0m \n",
      "        │   │   │   └───Index \u001b[38;5;246mDataArray_t\u001b[0m I4 (13360,)\n",
      "        │   │   └───FamilyName \u001b[38;5;246mFamilyName_t\u001b[0m \"Symmetry\"\n",
      "        │   ├───VTail \u001b[38;5;246mBC_t\u001b[0m \"FamilySpecified\"\n",
      "        │   │   ├───GridLocation \u001b[38;5;246mGridLocation_t\u001b[0m \"FaceCenter\"\n",
      "        │   │   ├───PointList \u001b[38;5;246mIndexArray_t\u001b[0m I4 (1, 4724)\n",
      "        │   │   ├───:CGNS#GlobalNumbering \u001b[38;5;246mUserDefinedData_t\u001b[0m \n",
      "        │   │   │   └───Index \u001b[38;5;246mDataArray_t\u001b[0m I4 (4724,)\n",
      "        │   │   ├───FamilyName \u001b[38;5;246mFamilyName_t\u001b[0m \"VTail\"\n",
      "        │   │   ├───AdditionalFamilyName \u001b[38;5;246mAdditionalFamilyName_t\u001b[0m \"Walls\"\n",
      "        │   │   └───BCDataSet:Skin \u001b[38;5;246mBCDataSet_t\u001b[0m \"UserDefined\"\n",
      "        │   │       └───NeumannData \u001b[38;5;246mBCData_t\u001b[0m \n",
      "        │   │           ├───SkinFrictionX \u001b[38;5;246mDataArray_t\u001b[0m R8 (4724,)\n",
      "        │   │           ├───SkinFrictionY \u001b[38;5;246mDataArray_t\u001b[0m R8 (4724,)\n",
      "        │   │           ├───SkinFrictionZ \u001b[38;5;246mDataArray_t\u001b[0m R8 (4724,)\n",
      "        │   │           └───Pressure \u001b[38;5;246mDataArray_t\u001b[0m R8 (4724,)\n",
      "        │   └───Wing \u001b[38;5;246mBC_t\u001b[0m \"FamilySpecified\"\n",
      "        │       ├───GridLocation \u001b[38;5;246mGridLocation_t\u001b[0m \"FaceCenter\"\n",
      "        │       ├───PointList \u001b[38;5;246mIndexArray_t\u001b[0m I4 (1, 58211)\n",
      "        │       ├───:CGNS#GlobalNumbering \u001b[38;5;246mUserDefinedData_t\u001b[0m \n",
      "        │       │   └───Index \u001b[38;5;246mDataArray_t\u001b[0m I4 (58211,)\n",
      "        │       ├───FamilyName \u001b[38;5;246mFamilyName_t\u001b[0m \"Wing\"\n",
      "        │       ├───AdditionalFamilyName \u001b[38;5;246mAdditionalFamilyName_t\u001b[0m \"Walls\"\n",
      "        │       └───BCDataSet:Skin \u001b[38;5;246mBCDataSet_t\u001b[0m \"UserDefined\"\n",
      "        │           └───NeumannData \u001b[38;5;246mBCData_t\u001b[0m \n",
      "        │               ├───SkinFrictionX \u001b[38;5;246mDataArray_t\u001b[0m R8 (58211,)\n",
      "        │               ├───SkinFrictionY \u001b[38;5;246mDataArray_t\u001b[0m R8 (58211,)\n",
      "        │               ├───SkinFrictionZ \u001b[38;5;246mDataArray_t\u001b[0m R8 (58211,)\n",
      "        │               └───Pressure \u001b[38;5;246mDataArray_t\u001b[0m R8 (58211,)\n",
      "        ├───\u001b[1m\u001b[38;5;183mFamilyName\u001b[0m \u001b[38;5;246mFamilyName_t\u001b[0m \"Unspecified\"\n",
      "        └───\u001b[1m\u001b[38;5;183mFlowSolution#Centers\u001b[0m \u001b[38;5;246mFlowSolution_t\u001b[0m \n",
      "            ├───GridLocation \u001b[38;5;246mGridLocation_t\u001b[0m \"CellCenter\"\n",
      "            ├───Density \u001b[38;5;246mDataArray_t\u001b[0m R8 (4537155,)\n",
      "            ├───MomentumX \u001b[38;5;246mDataArray_t\u001b[0m R8 (4537155,)\n",
      "            ├───MomentumY \u001b[38;5;246mDataArray_t\u001b[0m R8 (4537155,)\n",
      "            ├───MomentumZ \u001b[38;5;246mDataArray_t\u001b[0m R8 (4537155,)\n",
      "            └───EnergyStagnationDensity \u001b[38;5;246mDataArray_t\u001b[0m R8 (4537155,)\n"
     ]
    }
   ],
   "source": [
    "sol_tree = get_solver_tree()\n",
    "PT.print_tree(sol_tree)"
   ]
  },
  {
   "cell_type": "markdown",
   "id": "b2242efa",
   "metadata": {},
   "source": [
    "What is the kind (distributed, partitioned, full) of sol_tree ?"
   ]
  },
  {
   "cell_type": "markdown",
   "id": "e5229ed1",
   "metadata": {},
   "source": [
    "Now let's do some post operations."
   ]
  },
  {
   "cell_type": "markdown",
   "id": "797bc7b6",
   "metadata": {},
   "source": [
    "## Step 4 -- Extraction\n",
    "\n",
    "Extract a surfacic mesh corresponding to the faces belonging to Walls family."
   ]
  },
  {
   "cell_type": "code",
   "execution_count": 8,
   "id": "6da636c3",
   "metadata": {
    "execution": {
     "iopub.execute_input": "2025-05-20T09:05:05.786158Z",
     "iopub.status.busy": "2025-05-20T09:05:05.785934Z",
     "iopub.status.idle": "2025-05-20T09:05:06.339605Z",
     "shell.execute_reply": "2025-05-20T09:05:06.339008Z"
    },
    "lines_to_next_cell": 2
   },
   "outputs": [
    {
     "name": "stdout",
     "output_type": "stream",
     "text": [
      "\u001b[1m\u001b[38;5;33mCGNSTree\u001b[0m \u001b[38;5;246mCGNSTree_t\u001b[0m \n",
      "├───CGNSLibraryVersion \u001b[38;5;246mCGNSLibraryVersion_t\u001b[0m R4 [4.2]\n",
      "└───\u001b[1m\u001b[38;5;33mBase\u001b[0m \u001b[38;5;246mCGNSBase_t\u001b[0m I4 [2 3]\n",
      "    ├───\u001b[1m\u001b[38;5;33mZone.P0.N0\u001b[0m \u001b[38;5;246mZone_t\u001b[0m I4 [[ 61933 123405      0]]\n",
      "    │   ├───\u001b[1m\u001b[38;5;183mZoneType\u001b[0m \u001b[38;5;246mZoneType_t\u001b[0m \"Unstructured\"\n",
      "    │   ├───\u001b[1m\u001b[38;5;183m:CGNS#GlobalNumbering\u001b[0m \u001b[38;5;246mUserDefinedData_t\u001b[0m \n",
      "    │   │   ├───Vertex \u001b[38;5;246mDataArray_t\u001b[0m I4 (61933,)\n",
      "    │   │   └───Cell \u001b[38;5;246mDataArray_t\u001b[0m I4 (123405,)\n",
      "    │   ├───\u001b[1m\u001b[38;5;183mGridCoordinates\u001b[0m \u001b[38;5;246mGridCoordinates_t\u001b[0m \n",
      "    │   │   ├───CoordinateX \u001b[38;5;246mDataArray_t\u001b[0m R8 (61933,)\n",
      "    │   │   ├───CoordinateY \u001b[38;5;246mDataArray_t\u001b[0m R8 (61933,)\n",
      "    │   │   └───CoordinateZ \u001b[38;5;246mDataArray_t\u001b[0m R8 (61933,)\n",
      "    │   ├───\u001b[1m\u001b[38;5;183mNGonElements\u001b[0m \u001b[38;5;246mElements_t\u001b[0m I4 [22  0]\n",
      "    │   │   ├───ElementRange \u001b[38;5;246mIndexRange_t\u001b[0m I4 [     1 123405]\n",
      "    │   │   ├───ElementStartOffset \u001b[38;5;246mDataArray_t\u001b[0m I4 (123406,)\n",
      "    │   │   ├───ElementConnectivity \u001b[38;5;246mDataArray_t\u001b[0m I4 (370215,)\n",
      "    │   │   └───:CGNS#GlobalNumbering \u001b[38;5;246mUserDefinedData_t\u001b[0m \n",
      "    │   │       └───Element \u001b[38;5;246mDataArray_t\u001b[0m I4 (123405,)\n",
      "    │   ├───\u001b[1m\u001b[38;5;183mZoneBC\u001b[0m \u001b[38;5;246mZoneBC_t\u001b[0m \n",
      "    │   │   ├───FTF \u001b[38;5;246mBC_t\u001b[0m \"FamilySpecified\"\n",
      "    │   │   │   ├───GridLocation \u001b[38;5;246mGridLocation_t\u001b[0m \"CellCenter\"\n",
      "    │   │   │   ├───PointList \u001b[38;5;246mIndexArray_t\u001b[0m I4 (1, 13827)\n",
      "    │   │   │   ├───FamilyName \u001b[38;5;246mFamilyName_t\u001b[0m \"FTF\"\n",
      "    │   │   │   ├───AdditionalFamilyName \u001b[38;5;246mAdditionalFamilyName_t\u001b[0m \"Walls\"\n",
      "    │   │   │   └───:CGNS#GlobalNumbering \u001b[38;5;246mUserDefinedData_t\u001b[0m \n",
      "    │   │   │       └───Index \u001b[38;5;246mDataArray_t\u001b[0m I4 (13827,)\n",
      "    │   │   ├───Fuselage \u001b[38;5;246mBC_t\u001b[0m \"FamilySpecified\"\n",
      "    │   │   │   ├───GridLocation \u001b[38;5;246mGridLocation_t\u001b[0m \"CellCenter\"\n",
      "    │   │   │   ├───PointList \u001b[38;5;246mIndexArray_t\u001b[0m I4 (1, 26535)\n",
      "    │   │   │   ├───FamilyName \u001b[38;5;246mFamilyName_t\u001b[0m \"Fuselage\"\n",
      "    │   │   │   ├───AdditionalFamilyName \u001b[38;5;246mAdditionalFamilyName_t\u001b[0m \"Walls\"\n",
      "    │   │   │   └───:CGNS#GlobalNumbering \u001b[38;5;246mUserDefinedData_t\u001b[0m \n",
      "    │   │   │       └───Index \u001b[38;5;246mDataArray_t\u001b[0m I4 (26535,)\n",
      "    │   │   ├───HTail \u001b[38;5;246mBC_t\u001b[0m \"FamilySpecified\"\n",
      "    │   │   │   ├───GridLocation \u001b[38;5;246mGridLocation_t\u001b[0m \"CellCenter\"\n",
      "    │   │   │   ├───PointList \u001b[38;5;246mIndexArray_t\u001b[0m I4 (1, 20108)\n",
      "    │   │   │   ├───FamilyName \u001b[38;5;246mFamilyName_t\u001b[0m \"HTail\"\n",
      "    │   │   │   ├───AdditionalFamilyName \u001b[38;5;246mAdditionalFamilyName_t\u001b[0m \"Walls\"\n",
      "    │   │   │   └───:CGNS#GlobalNumbering \u001b[38;5;246mUserDefinedData_t\u001b[0m \n",
      "    │   │   │       └───Index \u001b[38;5;246mDataArray_t\u001b[0m I4 (20108,)\n",
      "    │   │   ├───VTail \u001b[38;5;246mBC_t\u001b[0m \"FamilySpecified\"\n",
      "    │   │   │   ├───GridLocation \u001b[38;5;246mGridLocation_t\u001b[0m \"CellCenter\"\n",
      "    │   │   │   ├───PointList \u001b[38;5;246mIndexArray_t\u001b[0m I4 (1, 4724)\n",
      "    │   │   │   ├───FamilyName \u001b[38;5;246mFamilyName_t\u001b[0m \"VTail\"\n",
      "    │   │   │   ├───AdditionalFamilyName \u001b[38;5;246mAdditionalFamilyName_t\u001b[0m \"Walls\"\n",
      "    │   │   │   └───:CGNS#GlobalNumbering \u001b[38;5;246mUserDefinedData_t\u001b[0m \n",
      "    │   │   │       └───Index \u001b[38;5;246mDataArray_t\u001b[0m I4 (4724,)\n",
      "    │   │   └───Wing \u001b[38;5;246mBC_t\u001b[0m \"FamilySpecified\"\n",
      "    │   │       ├───GridLocation \u001b[38;5;246mGridLocation_t\u001b[0m \"CellCenter\"\n",
      "    │   │       ├───PointList \u001b[38;5;246mIndexArray_t\u001b[0m I4 (1, 58211)\n",
      "    │   │       ├───FamilyName \u001b[38;5;246mFamilyName_t\u001b[0m \"Wing\"\n",
      "    │   │       ├───AdditionalFamilyName \u001b[38;5;246mAdditionalFamilyName_t\u001b[0m \"Walls\"\n",
      "    │   │       └───:CGNS#GlobalNumbering \u001b[38;5;246mUserDefinedData_t\u001b[0m \n",
      "    │   │           └───Index \u001b[38;5;246mDataArray_t\u001b[0m I4 (58211,)\n",
      "    │   ├───\u001b[1m\u001b[38;5;183mFTF\u001b[0m \u001b[38;5;246mZoneSubRegion_t\u001b[0m \n",
      "    │   │   ├───GridLocation \u001b[38;5;246mGridLocation_t\u001b[0m \"CellCenter\"\n",
      "    │   │   ├───SkinFrictionX \u001b[38;5;246mDataArray_t\u001b[0m R8 (13827,)\n",
      "    │   │   ├───SkinFrictionY \u001b[38;5;246mDataArray_t\u001b[0m R8 (13827,)\n",
      "    │   │   ├───SkinFrictionZ \u001b[38;5;246mDataArray_t\u001b[0m R8 (13827,)\n",
      "    │   │   ├───Pressure \u001b[38;5;246mDataArray_t\u001b[0m R8 (13827,)\n",
      "    │   │   ├───PointList \u001b[38;5;246mIndexArray_t\u001b[0m I8 (1, 13827)\n",
      "    │   │   └───:CGNS#GlobalNumbering \u001b[38;5;246mUserDefinedData_t\u001b[0m \n",
      "    │   │       └───Index \u001b[38;5;246mDataArray_t\u001b[0m I4 (13827,)\n",
      "    │   ├───\u001b[1m\u001b[38;5;183mFuselage\u001b[0m \u001b[38;5;246mZoneSubRegion_t\u001b[0m \n",
      "    │   │   ├───GridLocation \u001b[38;5;246mGridLocation_t\u001b[0m \"CellCenter\"\n",
      "    │   │   ├───SkinFrictionX \u001b[38;5;246mDataArray_t\u001b[0m R8 (26535,)\n",
      "    │   │   ├───SkinFrictionY \u001b[38;5;246mDataArray_t\u001b[0m R8 (26535,)\n",
      "    │   │   ├───SkinFrictionZ \u001b[38;5;246mDataArray_t\u001b[0m R8 (26535,)\n",
      "    │   │   ├───Pressure \u001b[38;5;246mDataArray_t\u001b[0m R8 (26535,)\n",
      "    │   │   ├───PointList \u001b[38;5;246mIndexArray_t\u001b[0m I8 (1, 26535)\n",
      "    │   │   └───:CGNS#GlobalNumbering \u001b[38;5;246mUserDefinedData_t\u001b[0m \n",
      "    │   │       └───Index \u001b[38;5;246mDataArray_t\u001b[0m I4 (26535,)\n",
      "    │   ├───\u001b[1m\u001b[38;5;183mHTail\u001b[0m \u001b[38;5;246mZoneSubRegion_t\u001b[0m \n",
      "    │   │   ├───GridLocation \u001b[38;5;246mGridLocation_t\u001b[0m \"CellCenter\"\n",
      "    │   │   ├───SkinFrictionX \u001b[38;5;246mDataArray_t\u001b[0m R8 (20108,)\n",
      "    │   │   ├───SkinFrictionY \u001b[38;5;246mDataArray_t\u001b[0m R8 (20108,)\n",
      "    │   │   ├───SkinFrictionZ \u001b[38;5;246mDataArray_t\u001b[0m R8 (20108,)\n",
      "    │   │   ├───Pressure \u001b[38;5;246mDataArray_t\u001b[0m R8 (20108,)\n",
      "    │   │   ├───PointList \u001b[38;5;246mIndexArray_t\u001b[0m I8 (1, 20108)\n",
      "    │   │   └───:CGNS#GlobalNumbering \u001b[38;5;246mUserDefinedData_t\u001b[0m \n",
      "    │   │       └───Index \u001b[38;5;246mDataArray_t\u001b[0m I4 (20108,)\n",
      "    │   ├───\u001b[1m\u001b[38;5;183mVTail\u001b[0m \u001b[38;5;246mZoneSubRegion_t\u001b[0m \n",
      "    │   │   ├───GridLocation \u001b[38;5;246mGridLocation_t\u001b[0m \"CellCenter\"\n",
      "    │   │   ├───SkinFrictionX \u001b[38;5;246mDataArray_t\u001b[0m R8 (4724,)\n",
      "    │   │   ├───SkinFrictionY \u001b[38;5;246mDataArray_t\u001b[0m R8 (4724,)\n",
      "    │   │   ├───SkinFrictionZ \u001b[38;5;246mDataArray_t\u001b[0m R8 (4724,)\n",
      "    │   │   ├───Pressure \u001b[38;5;246mDataArray_t\u001b[0m R8 (4724,)\n",
      "    │   │   ├───PointList \u001b[38;5;246mIndexArray_t\u001b[0m I8 (1, 4724)\n",
      "    │   │   └───:CGNS#GlobalNumbering \u001b[38;5;246mUserDefinedData_t\u001b[0m \n",
      "    │   │       └───Index \u001b[38;5;246mDataArray_t\u001b[0m I4 (4724,)\n",
      "    │   └───\u001b[1m\u001b[38;5;183mWing\u001b[0m \u001b[38;5;246mZoneSubRegion_t\u001b[0m \n",
      "    │       ├───GridLocation \u001b[38;5;246mGridLocation_t\u001b[0m \"CellCenter\"\n",
      "    │       ├───SkinFrictionX \u001b[38;5;246mDataArray_t\u001b[0m R8 (58211,)\n",
      "    │       ├───SkinFrictionY \u001b[38;5;246mDataArray_t\u001b[0m R8 (58211,)\n",
      "    │       ├───SkinFrictionZ \u001b[38;5;246mDataArray_t\u001b[0m R8 (58211,)\n",
      "    │       ├───Pressure \u001b[38;5;246mDataArray_t\u001b[0m R8 (58211,)\n",
      "    │       ├───PointList \u001b[38;5;246mIndexArray_t\u001b[0m I8 (1, 58211)\n",
      "    │       └───:CGNS#GlobalNumbering \u001b[38;5;246mUserDefinedData_t\u001b[0m \n",
      "    │           └───Index \u001b[38;5;246mDataArray_t\u001b[0m I4 (58211,)\n",
      "    ├───\u001b[1m\u001b[38;5;220mFTF\u001b[0m \u001b[38;5;246mFamily_t\u001b[0m \n",
      "    │   └───FamilyBC \u001b[38;5;246mFamilyBC_t\u001b[0m \"BCWallViscous\"\n",
      "    ├───\u001b[1m\u001b[38;5;220mFuselage\u001b[0m \u001b[38;5;246mFamily_t\u001b[0m \n",
      "    │   └───FamilyBC \u001b[38;5;246mFamilyBC_t\u001b[0m \"BCWallViscous\"\n",
      "    ├───\u001b[1m\u001b[38;5;220mHTail\u001b[0m \u001b[38;5;246mFamily_t\u001b[0m \n",
      "    │   └───FamilyBC \u001b[38;5;246mFamilyBC_t\u001b[0m \"BCWallViscous\"\n",
      "    ├───\u001b[1m\u001b[38;5;220mVTail\u001b[0m \u001b[38;5;246mFamily_t\u001b[0m \n",
      "    │   └───FamilyBC \u001b[38;5;246mFamilyBC_t\u001b[0m \"BCWallViscous\"\n",
      "    ├───\u001b[1m\u001b[38;5;220mWalls\u001b[0m \u001b[38;5;246mFamily_t\u001b[0m \n",
      "    │   ├───.Solver#Output:forcesWalls \u001b[38;5;246mUserDefinedData_t\u001b[0m \n",
      "    │   │   ├───var \u001b[38;5;246mDataArray_t\u001b[0m \"flux_rou [...]_row\"\n",
      "    │   │   ├───pinf \u001b[38;5;246mDataArray_t\u001b[0m R8 [101325.296875]\n",
      "    │   │   ├───fluxcoeff \u001b[38;5;246mDataArray_t\u001b[0m R8 [0.00051035]\n",
      "    │   │   ├───torquecoeff \u001b[38;5;246mDataArray_t\u001b[0m R8 [0.00121421]\n",
      "    │   │   ├───xtorque \u001b[38;5;246mDataArray_t\u001b[0m R8 [2.02067161]\n",
      "    │   │   ├───ytorque \u001b[38;5;246mDataArray_t\u001b[0m R8 [0.]\n",
      "    │   │   ├───ztorque \u001b[38;5;246mDataArray_t\u001b[0m R8 [0.2711958]\n",
      "    │   │   └───loc \u001b[38;5;246mDataArray_t\u001b[0m \"interface\"\n",
      "    │   └───.Solver#Output:Skin \u001b[38;5;246mUserDefinedData_t\u001b[0m \n",
      "    │       ├───var \u001b[38;5;246mDataArray_t\u001b[0m \"Pressure [...]tude\"\n",
      "    │       ├───loc \u001b[38;5;246mDataArray_t\u001b[0m \"interface\"\n",
      "    │       └───writingmode \u001b[38;5;246mDataArray_t\u001b[0m I4 [1]\n",
      "    └───\u001b[1m\u001b[38;5;220mWing\u001b[0m \u001b[38;5;246mFamily_t\u001b[0m \n",
      "        └───FamilyBC \u001b[38;5;246mFamilyBC_t\u001b[0m \"BCWallViscous\"\n",
      "Extraction from Family \"Walls\" completed (0.53 s) -- Extracted tree has locally 123.4K faces (Σ=123.4K)\n"
     ]
    }
   ],
   "source": [
    "ext_tree = maia.algo.part.extract_part_from_family(sol_tree, 'Walls', comm)\n",
    "PT.print_tree(ext_tree)"
   ]
  },
  {
   "cell_type": "markdown",
   "id": "dbfd2b5d",
   "metadata": {},
   "source": [
    "NB : output fields are stored as several ZSR (one per extraction)\n",
    "If we want to visualize it in Paraview we have to merge it into\n",
    "a single FlowSolution container.\n",
    "\n",
    "To do that follow these steps:\n",
    "- Get the list of fields to create\n",
    "- Create empty arrays of size nb_cell\n",
    "- Loop over ZSR and fill arrays:\n",
    "- Global_array[zsr_point_list] = zsr_value\n",
    "- Remove ZSR"
   ]
  },
  {
   "cell_type": "code",
   "execution_count": 9,
   "id": "2b7c2980",
   "metadata": {
    "execution": {
     "iopub.execute_input": "2025-05-20T09:05:06.342434Z",
     "iopub.status.busy": "2025-05-20T09:05:06.342202Z",
     "iopub.status.idle": "2025-05-20T09:05:06.354654Z",
     "shell.execute_reply": "2025-05-20T09:05:06.353921Z"
    }
   },
   "outputs": [
    {
     "name": "stdout",
     "output_type": "stream",
     "text": [
      "\u001b[1m\u001b[38;5;33mCGNSTree\u001b[0m \u001b[38;5;246mCGNSTree_t\u001b[0m \n",
      "├───CGNSLibraryVersion \u001b[38;5;246mCGNSLibraryVersion_t\u001b[0m R4 [4.2]\n",
      "└───\u001b[1m\u001b[38;5;33mBase\u001b[0m \u001b[38;5;246mCGNSBase_t\u001b[0m I4 [2 3]\n",
      "    ├───\u001b[1m\u001b[38;5;33mZone.P0.N0\u001b[0m \u001b[38;5;246mZone_t\u001b[0m I4 [[ 61933 123405      0]]\n",
      "    │   ├───\u001b[1m\u001b[38;5;183mZoneType\u001b[0m \u001b[38;5;246mZoneType_t\u001b[0m \"Unstructured\"\n",
      "    │   ├───\u001b[1m\u001b[38;5;183m:CGNS#GlobalNumbering\u001b[0m \u001b[38;5;246mUserDefinedData_t\u001b[0m \n",
      "    │   │   ├───Vertex \u001b[38;5;246mDataArray_t\u001b[0m I4 (61933,)\n",
      "    │   │   └───Cell \u001b[38;5;246mDataArray_t\u001b[0m I4 (123405,)\n",
      "    │   ├───\u001b[1m\u001b[38;5;183mGridCoordinates\u001b[0m \u001b[38;5;246mGridCoordinates_t\u001b[0m \n",
      "    │   │   ├───CoordinateX \u001b[38;5;246mDataArray_t\u001b[0m R8 (61933,)\n",
      "    │   │   ├───CoordinateY \u001b[38;5;246mDataArray_t\u001b[0m R8 (61933,)\n",
      "    │   │   └───CoordinateZ \u001b[38;5;246mDataArray_t\u001b[0m R8 (61933,)\n",
      "    │   ├───\u001b[1m\u001b[38;5;183mNGonElements\u001b[0m \u001b[38;5;246mElements_t\u001b[0m I4 [22  0]\n",
      "    │   │   ├───ElementRange \u001b[38;5;246mIndexRange_t\u001b[0m I4 [     1 123405]\n",
      "    │   │   ├───ElementStartOffset \u001b[38;5;246mDataArray_t\u001b[0m I4 (123406,)\n",
      "    │   │   ├───ElementConnectivity \u001b[38;5;246mDataArray_t\u001b[0m I4 (370215,)\n",
      "    │   │   └───:CGNS#GlobalNumbering \u001b[38;5;246mUserDefinedData_t\u001b[0m \n",
      "    │   │       └───Element \u001b[38;5;246mDataArray_t\u001b[0m I4 (123405,)\n",
      "    │   ├───\u001b[1m\u001b[38;5;183mZoneBC\u001b[0m \u001b[38;5;246mZoneBC_t\u001b[0m \n",
      "    │   │   ├───FTF \u001b[38;5;246mBC_t\u001b[0m \"FamilySpecified\"\n",
      "    │   │   │   ├───GridLocation \u001b[38;5;246mGridLocation_t\u001b[0m \"CellCenter\"\n",
      "    │   │   │   ├───PointList \u001b[38;5;246mIndexArray_t\u001b[0m I4 (1, 13827)\n",
      "    │   │   │   ├───FamilyName \u001b[38;5;246mFamilyName_t\u001b[0m \"FTF\"\n",
      "    │   │   │   ├───AdditionalFamilyName \u001b[38;5;246mAdditionalFamilyName_t\u001b[0m \"Walls\"\n",
      "    │   │   │   └───:CGNS#GlobalNumbering \u001b[38;5;246mUserDefinedData_t\u001b[0m \n",
      "    │   │   │       └───Index \u001b[38;5;246mDataArray_t\u001b[0m I4 (13827,)\n",
      "    │   │   ├───Fuselage \u001b[38;5;246mBC_t\u001b[0m \"FamilySpecified\"\n",
      "    │   │   │   ├───GridLocation \u001b[38;5;246mGridLocation_t\u001b[0m \"CellCenter\"\n",
      "    │   │   │   ├───PointList \u001b[38;5;246mIndexArray_t\u001b[0m I4 (1, 26535)\n",
      "    │   │   │   ├───FamilyName \u001b[38;5;246mFamilyName_t\u001b[0m \"Fuselage\"\n",
      "    │   │   │   ├───AdditionalFamilyName \u001b[38;5;246mAdditionalFamilyName_t\u001b[0m \"Walls\"\n",
      "    │   │   │   └───:CGNS#GlobalNumbering \u001b[38;5;246mUserDefinedData_t\u001b[0m \n",
      "    │   │   │       └───Index \u001b[38;5;246mDataArray_t\u001b[0m I4 (26535,)\n",
      "    │   │   ├───HTail \u001b[38;5;246mBC_t\u001b[0m \"FamilySpecified\"\n",
      "    │   │   │   ├───GridLocation \u001b[38;5;246mGridLocation_t\u001b[0m \"CellCenter\"\n",
      "    │   │   │   ├───PointList \u001b[38;5;246mIndexArray_t\u001b[0m I4 (1, 20108)\n",
      "    │   │   │   ├───FamilyName \u001b[38;5;246mFamilyName_t\u001b[0m \"HTail\"\n",
      "    │   │   │   ├───AdditionalFamilyName \u001b[38;5;246mAdditionalFamilyName_t\u001b[0m \"Walls\"\n",
      "    │   │   │   └───:CGNS#GlobalNumbering \u001b[38;5;246mUserDefinedData_t\u001b[0m \n",
      "    │   │   │       └───Index \u001b[38;5;246mDataArray_t\u001b[0m I4 (20108,)\n",
      "    │   │   ├───VTail \u001b[38;5;246mBC_t\u001b[0m \"FamilySpecified\"\n",
      "    │   │   │   ├───GridLocation \u001b[38;5;246mGridLocation_t\u001b[0m \"CellCenter\"\n",
      "    │   │   │   ├───PointList \u001b[38;5;246mIndexArray_t\u001b[0m I4 (1, 4724)\n",
      "    │   │   │   ├───FamilyName \u001b[38;5;246mFamilyName_t\u001b[0m \"VTail\"\n",
      "    │   │   │   ├───AdditionalFamilyName \u001b[38;5;246mAdditionalFamilyName_t\u001b[0m \"Walls\"\n",
      "    │   │   │   └───:CGNS#GlobalNumbering \u001b[38;5;246mUserDefinedData_t\u001b[0m \n",
      "    │   │   │       └───Index \u001b[38;5;246mDataArray_t\u001b[0m I4 (4724,)\n",
      "    │   │   └───Wing \u001b[38;5;246mBC_t\u001b[0m \"FamilySpecified\"\n",
      "    │   │       ├───GridLocation \u001b[38;5;246mGridLocation_t\u001b[0m \"CellCenter\"\n",
      "    │   │       ├───PointList \u001b[38;5;246mIndexArray_t\u001b[0m I4 (1, 58211)\n",
      "    │   │       ├───FamilyName \u001b[38;5;246mFamilyName_t\u001b[0m \"Wing\"\n",
      "    │   │       ├───AdditionalFamilyName \u001b[38;5;246mAdditionalFamilyName_t\u001b[0m \"Walls\"\n",
      "    │   │       └───:CGNS#GlobalNumbering \u001b[38;5;246mUserDefinedData_t\u001b[0m \n",
      "    │   │           └───Index \u001b[38;5;246mDataArray_t\u001b[0m I4 (58211,)\n",
      "    │   └───\u001b[1m\u001b[38;5;183mExtractedSol\u001b[0m \u001b[38;5;246mFlowSolution_t\u001b[0m \n",
      "    │       ├───GridLocation \u001b[38;5;246mGridLocation_t\u001b[0m \"CellCenter\"\n",
      "    │       ├───SkinFrictionX \u001b[38;5;246mDataArray_t\u001b[0m R8 (123405,)\n",
      "    │       ├───SkinFrictionY \u001b[38;5;246mDataArray_t\u001b[0m R8 (123405,)\n",
      "    │       ├───SkinFrictionZ \u001b[38;5;246mDataArray_t\u001b[0m R8 (123405,)\n",
      "    │       └───Pressure \u001b[38;5;246mDataArray_t\u001b[0m R8 (123405,)\n",
      "    ├───\u001b[1m\u001b[38;5;220mFTF\u001b[0m \u001b[38;5;246mFamily_t\u001b[0m \n",
      "    │   └───FamilyBC \u001b[38;5;246mFamilyBC_t\u001b[0m \"BCWallViscous\"\n",
      "    ├───\u001b[1m\u001b[38;5;220mFuselage\u001b[0m \u001b[38;5;246mFamily_t\u001b[0m \n",
      "    │   └───FamilyBC \u001b[38;5;246mFamilyBC_t\u001b[0m \"BCWallViscous\"\n",
      "    ├───\u001b[1m\u001b[38;5;220mHTail\u001b[0m \u001b[38;5;246mFamily_t\u001b[0m \n",
      "    │   └───FamilyBC \u001b[38;5;246mFamilyBC_t\u001b[0m \"BCWallViscous\"\n",
      "    ├───\u001b[1m\u001b[38;5;220mVTail\u001b[0m \u001b[38;5;246mFamily_t\u001b[0m \n",
      "    │   └───FamilyBC \u001b[38;5;246mFamilyBC_t\u001b[0m \"BCWallViscous\"\n",
      "    ├───\u001b[1m\u001b[38;5;220mWalls\u001b[0m \u001b[38;5;246mFamily_t\u001b[0m \n",
      "    │   ├───.Solver#Output:forcesWalls \u001b[38;5;246mUserDefinedData_t\u001b[0m \n",
      "    │   │   ├───var \u001b[38;5;246mDataArray_t\u001b[0m \"flux_rou [...]_row\"\n",
      "    │   │   ├───pinf \u001b[38;5;246mDataArray_t\u001b[0m R8 [101325.296875]\n",
      "    │   │   ├───fluxcoeff \u001b[38;5;246mDataArray_t\u001b[0m R8 [0.00051035]\n",
      "    │   │   ├───torquecoeff \u001b[38;5;246mDataArray_t\u001b[0m R8 [0.00121421]\n",
      "    │   │   ├───xtorque \u001b[38;5;246mDataArray_t\u001b[0m R8 [2.02067161]\n",
      "    │   │   ├───ytorque \u001b[38;5;246mDataArray_t\u001b[0m R8 [0.]\n",
      "    │   │   ├───ztorque \u001b[38;5;246mDataArray_t\u001b[0m R8 [0.2711958]\n",
      "    │   │   └───loc \u001b[38;5;246mDataArray_t\u001b[0m \"interface\"\n",
      "    │   └───.Solver#Output:Skin \u001b[38;5;246mUserDefinedData_t\u001b[0m \n",
      "    │       ├───var \u001b[38;5;246mDataArray_t\u001b[0m \"Pressure [...]tude\"\n",
      "    │       ├───loc \u001b[38;5;246mDataArray_t\u001b[0m \"interface\"\n",
      "    │       └───writingmode \u001b[38;5;246mDataArray_t\u001b[0m I4 [1]\n",
      "    └───\u001b[1m\u001b[38;5;220mWing\u001b[0m \u001b[38;5;246mFamily_t\u001b[0m \n",
      "        └───FamilyBC \u001b[38;5;246mFamilyBC_t\u001b[0m \"BCWallViscous\"\n"
     ]
    }
   ],
   "source": [
    "for zone in PT.get_all_Zone_t(ext_tree):\n",
    "    zsr_list = PT.get_children_from_label(zone, 'ZoneSubRegion_t')\n",
    "    sizes = [PT.Subset.n_elem(zsr) for zsr in zsr_list]\n",
    "\n",
    "    fields = [PT.get_name(n) for n in \n",
    "                PT.get_children_from_label(zsr_list[0], 'DataArray_t')]\n",
    "\n",
    "    merged_fields = {field: np.empty(sum(sizes)) for field in fields}\n",
    "\n",
    "    for zsr in zsr_list:\n",
    "        pl = PT.get_child_from_name(zsr, 'PointList')[1][0]\n",
    "        for fld_node in PT.get_children_from_label(zsr, 'DataArray_t'):\n",
    "            merged_fields[PT.get_name(fld_node)][pl-1] = PT.get_value(fld_node)\n",
    "\n",
    "    PT.new_FlowSolution('ExtractedSol', loc='CellCenter', fields=merged_fields, parent=zone)\n",
    "    PT.rm_children_from_label(zone, 'ZoneSubRegion_t')\n",
    "PT.print_tree(ext_tree)"
   ]
  },
  {
   "cell_type": "markdown",
   "id": "e797a76c",
   "metadata": {},
   "source": [
    "What kind of tree is the result of the extraction ? \n",
    "How can we save it as a single merged file with dist_tree_to_file ?"
   ]
  },
  {
   "cell_type": "code",
   "execution_count": 10,
   "id": "5e6be96c",
   "metadata": {
    "execution": {
     "iopub.execute_input": "2025-05-20T09:05:06.358189Z",
     "iopub.status.busy": "2025-05-20T09:05:06.357736Z",
     "iopub.status.idle": "2025-05-20T09:05:06.648029Z",
     "shell.execute_reply": "2025-05-20T09:05:06.647264Z"
    }
   },
   "outputs": [
    {
     "name": "stdout",
     "output_type": "stream",
     "text": [
      "Distributed write of a 3.8MiB dist_tree (Σ=3.8MiB)...\n",
      "\u001b[1m\u001b[38;5;33mCGNSTree\u001b[0m \u001b[38;5;246mCGNSTree_t\u001b[0m \n",
      "Write completed [Walls.cgns] (0.77 s)\n",
      "├───CGNSLibraryVersion \u001b[38;5;246mCGNSLibraryVersion_t\u001b[0m R4 [4.2]\n",
      "└───\u001b[1m\u001b[38;5;33mBase\u001b[0m \u001b[38;5;246mCGNSBase_t\u001b[0m I4 [2 3]\n",
      "    ├───\u001b[1m\u001b[38;5;220mFTF\u001b[0m \u001b[38;5;246mFamily_t\u001b[0m \n",
      "    │   └───FamilyBC \u001b[38;5;246mFamilyBC_t\u001b[0m \"BCWallViscous\"\n",
      "    ├───\u001b[1m\u001b[38;5;220mFuselage\u001b[0m \u001b[38;5;246mFamily_t\u001b[0m \n",
      "    │   └───FamilyBC \u001b[38;5;246mFamilyBC_t\u001b[0m \"BCWallViscous\"\n",
      "    ├───\u001b[1m\u001b[38;5;220mHTail\u001b[0m \u001b[38;5;246mFamily_t\u001b[0m \n",
      "    │   └───FamilyBC \u001b[38;5;246mFamilyBC_t\u001b[0m \"BCWallViscous\"\n",
      "    ├───\u001b[1m\u001b[38;5;220mVTail\u001b[0m \u001b[38;5;246mFamily_t\u001b[0m \n",
      "    │   └───FamilyBC \u001b[38;5;246mFamilyBC_t\u001b[0m \"BCWallViscous\"\n",
      "    ├───\u001b[1m\u001b[38;5;220mWalls\u001b[0m \u001b[38;5;246mFamily_t\u001b[0m \n",
      "    │   ├───.Solver#Output:forcesWalls \u001b[38;5;246mUserDefinedData_t\u001b[0m \n",
      "    │   │   ├───var \u001b[38;5;246mDataArray_t\u001b[0m \"flux_rou [...]_row\"\n",
      "    │   │   ├───pinf \u001b[38;5;246mDataArray_t\u001b[0m R8 [101325.296875]\n",
      "    │   │   ├───fluxcoeff \u001b[38;5;246mDataArray_t\u001b[0m R8 [0.00051035]\n",
      "    │   │   ├───torquecoeff \u001b[38;5;246mDataArray_t\u001b[0m R8 [0.00121421]\n",
      "    │   │   ├───xtorque \u001b[38;5;246mDataArray_t\u001b[0m R8 [2.02067161]\n",
      "    │   │   ├───ytorque \u001b[38;5;246mDataArray_t\u001b[0m R8 [0.]\n",
      "    │   │   ├───ztorque \u001b[38;5;246mDataArray_t\u001b[0m R8 [0.2711958]\n",
      "    │   │   └───loc \u001b[38;5;246mDataArray_t\u001b[0m \"interface\"\n",
      "    │   └───.Solver#Output:Skin \u001b[38;5;246mUserDefinedData_t\u001b[0m \n",
      "    │       ├───var \u001b[38;5;246mDataArray_t\u001b[0m \"Pressure [...]tude\"\n",
      "    │       ├───loc \u001b[38;5;246mDataArray_t\u001b[0m \"interface\"\n",
      "    │       └───writingmode \u001b[38;5;246mDataArray_t\u001b[0m I4 [1]\n",
      "    ├───\u001b[1m\u001b[38;5;220mWing\u001b[0m \u001b[38;5;246mFamily_t\u001b[0m \n",
      "    │   └───FamilyBC \u001b[38;5;246mFamilyBC_t\u001b[0m \"BCWallViscous\"\n",
      "    └───\u001b[1m\u001b[38;5;33mZone\u001b[0m \u001b[38;5;246mZone_t\u001b[0m I4 [[ 61933 123405      0]]\n",
      "        ├───\u001b[1m\u001b[38;5;183mZoneType\u001b[0m \u001b[38;5;246mZoneType_t\u001b[0m \"Unstructured\"\n",
      "        ├───\u001b[1m\u001b[38;5;183m:CGNS#Distribution\u001b[0m \u001b[38;5;246mUserDefinedData_t\u001b[0m \n",
      "        │   ├───Vertex \u001b[38;5;246mDataArray_t\u001b[0m I4 [    0 61933 61933]\n",
      "        │   └───Cell \u001b[38;5;246mDataArray_t\u001b[0m I4 [     0 123405 123405]\n",
      "        ├───\u001b[1m\u001b[38;5;183mGridCoordinates\u001b[0m \u001b[38;5;246mGridCoordinates_t\u001b[0m \n",
      "        │   ├───CoordinateX \u001b[38;5;246mDataArray_t\u001b[0m R8 (61933,)\n",
      "        │   ├───CoordinateY \u001b[38;5;246mDataArray_t\u001b[0m R8 (61933,)\n",
      "        │   └───CoordinateZ \u001b[38;5;246mDataArray_t\u001b[0m R8 (61933,)\n",
      "        ├───\u001b[1m\u001b[38;5;183mNGonElements\u001b[0m \u001b[38;5;246mElements_t\u001b[0m I4 [22  0]\n",
      "        │   ├───ElementRange \u001b[38;5;246mIndexRange_t\u001b[0m I4 [     1 123405]\n",
      "        │   ├───ElementStartOffset \u001b[38;5;246mDataArray_t\u001b[0m I4 (123406,)\n",
      "        │   ├───ElementConnectivity \u001b[38;5;246mDataArray_t\u001b[0m I4 (370215,)\n",
      "        │   └───:CGNS#Distribution \u001b[38;5;246mUserDefinedData_t\u001b[0m \n",
      "        │       ├───Element \u001b[38;5;246mDataArray_t\u001b[0m I4 [     0 123405 123405]\n",
      "        │       └───ElementConnectivity \u001b[38;5;246mDataArray_t\u001b[0m I4 [     0 370215 370215]\n",
      "        └───\u001b[1m\u001b[38;5;183mZoneBC\u001b[0m \u001b[38;5;246mZoneBC_t\u001b[0m \n",
      "            ├───FTF \u001b[38;5;246mBC_t\u001b[0m \"FamilySpecified\"\n",
      "            │   ├───FamilyName \u001b[38;5;246mFamilyName_t\u001b[0m \"FTF\"\n",
      "            │   ├───GridLocation \u001b[38;5;246mGridLocation_t\u001b[0m \"CellCenter\"\n",
      "            │   ├───AdditionalFamilyName \u001b[38;5;246mAdditionalFamilyName_t\u001b[0m \"Walls\"\n",
      "            │   ├───PointList \u001b[38;5;246mIndexArray_t\u001b[0m I4 (1, 13827)\n",
      "            │   └───:CGNS#Distribution \u001b[38;5;246mUserDefinedData_t\u001b[0m \n",
      "            │       └───Index \u001b[38;5;246mDataArray_t\u001b[0m I4 [    0 13827 13827]\n",
      "            ├───Fuselage \u001b[38;5;246mBC_t\u001b[0m \"FamilySpecified\"\n",
      "            │   ├───FamilyName \u001b[38;5;246mFamilyName_t\u001b[0m \"Fuselage\"\n",
      "            │   ├───GridLocation \u001b[38;5;246mGridLocation_t\u001b[0m \"CellCenter\"\n",
      "            │   ├───AdditionalFamilyName \u001b[38;5;246mAdditionalFamilyName_t\u001b[0m \"Walls\"\n",
      "            │   ├───PointList \u001b[38;5;246mIndexArray_t\u001b[0m I4 (1, 26535)\n",
      "            │   └───:CGNS#Distribution \u001b[38;5;246mUserDefinedData_t\u001b[0m \n",
      "            │       └───Index \u001b[38;5;246mDataArray_t\u001b[0m I4 [    0 26535 26535]\n",
      "            ├───HTail \u001b[38;5;246mBC_t\u001b[0m \"FamilySpecified\"\n",
      "            │   ├───FamilyName \u001b[38;5;246mFamilyName_t\u001b[0m \"HTail\"\n",
      "            │   ├───GridLocation \u001b[38;5;246mGridLocation_t\u001b[0m \"CellCenter\"\n",
      "            │   ├───AdditionalFamilyName \u001b[38;5;246mAdditionalFamilyName_t\u001b[0m \"Walls\"\n",
      "            │   ├───PointList \u001b[38;5;246mIndexArray_t\u001b[0m I4 (1, 20108)\n",
      "            │   └───:CGNS#Distribution \u001b[38;5;246mUserDefinedData_t\u001b[0m \n",
      "            │       └───Index \u001b[38;5;246mDataArray_t\u001b[0m I4 [    0 20108 20108]\n",
      "            ├───VTail \u001b[38;5;246mBC_t\u001b[0m \"FamilySpecified\"\n",
      "            │   ├───FamilyName \u001b[38;5;246mFamilyName_t\u001b[0m \"VTail\"\n",
      "            │   ├───GridLocation \u001b[38;5;246mGridLocation_t\u001b[0m \"CellCenter\"\n",
      "            │   ├───AdditionalFamilyName \u001b[38;5;246mAdditionalFamilyName_t\u001b[0m \"Walls\"\n",
      "            │   ├───PointList \u001b[38;5;246mIndexArray_t\u001b[0m I4 (1, 4724)\n",
      "            │   └───:CGNS#Distribution \u001b[38;5;246mUserDefinedData_t\u001b[0m \n",
      "            │       └───Index \u001b[38;5;246mDataArray_t\u001b[0m I4 [   0 4724 4724]\n",
      "            └───Wing \u001b[38;5;246mBC_t\u001b[0m \"FamilySpecified\"\n",
      "                ├───FamilyName \u001b[38;5;246mFamilyName_t\u001b[0m \"Wing\"\n",
      "                ├───GridLocation \u001b[38;5;246mGridLocation_t\u001b[0m \"CellCenter\"\n",
      "                ├───AdditionalFamilyName \u001b[38;5;246mAdditionalFamilyName_t\u001b[0m \"Walls\"\n",
      "                ├───PointList \u001b[38;5;246mIndexArray_t\u001b[0m I4 (1, 58211)\n",
      "                └───:CGNS#Distribution \u001b[38;5;246mUserDefinedData_t\u001b[0m \n",
      "                    └───Index \u001b[38;5;246mDataArray_t\u001b[0m I4 [    0 58211 58211]\n"
     ]
    }
   ],
   "source": [
    "dext_tree = maia.factory.recover_dist_tree(ext_tree, comm)\n",
    "maia.io.dist_tree_to_file(dext_tree, 'Walls.cgns', comm)\n",
    "PT.print_tree(dext_tree)"
   ]
  },
  {
   "cell_type": "markdown",
   "id": "4e7fa294",
   "metadata": {},
   "source": [
    "## Step 5 -- Slicing\n",
    "\n",
    "Compute a slice of the volumic tree using the plane equation y = 1\n",
    "Use the same procedure as above to save the slice (in a other file)  and visualize it."
   ]
  },
  {
   "cell_type": "code",
   "execution_count": 11,
   "id": "5b768e07",
   "metadata": {
    "execution": {
     "iopub.execute_input": "2025-05-20T09:05:06.651222Z",
     "iopub.status.busy": "2025-05-20T09:05:06.650814Z",
     "iopub.status.idle": "2025-05-20T09:05:08.207177Z",
     "shell.execute_reply": "2025-05-20T09:05:08.206133Z"
    }
   },
   "outputs": [
    {
     "name": "stdout",
     "output_type": "stream",
     "text": [
      "Plane slice completed (1.62 s)\n",
      "\u001b[1m\u001b[38;5;33mCGNSTree\u001b[0m \u001b[38;5;246mCGNSTree_t\u001b[0m \n",
      "├───CGNSLibraryVersion \u001b[38;5;246mCGNSLibraryVersion_t\u001b[0m R4 [4.2]\n",
      "└───\u001b[1m\u001b[38;5;33mBase\u001b[0m \u001b[38;5;246mCGNSBase_t\u001b[0m I4 [2 3]\n",
      "    └───\u001b[1m\u001b[38;5;33mZone\u001b[0m \u001b[38;5;246mZone_t\u001b[0m I4 [[ 85248 169976      0]]\n",
      "        ├───\u001b[1m\u001b[38;5;183mZoneType\u001b[0m \u001b[38;5;246mZoneType_t\u001b[0m \"Unstructured\"\n",
      "        ├───\u001b[1m\u001b[38;5;183mFamilyName\u001b[0m \u001b[38;5;246mFamilyName_t\u001b[0m \"Unspecified\"\n",
      "        ├───\u001b[1m\u001b[38;5;183m:CGNS#Distribution\u001b[0m \u001b[38;5;246mUserDefinedData_t\u001b[0m \n",
      "        │   ├───Vertex \u001b[38;5;246mDataArray_t\u001b[0m I4 [    0 85248 85248]\n",
      "        │   └───Cell \u001b[38;5;246mDataArray_t\u001b[0m I4 [     0 169976 169976]\n",
      "        ├───\u001b[1m\u001b[38;5;183mGridCoordinates\u001b[0m \u001b[38;5;246mGridCoordinates_t\u001b[0m \n",
      "        │   ├───CoordinateX \u001b[38;5;246mDataArray_t\u001b[0m R8 (85248,)\n",
      "        │   ├───CoordinateY \u001b[38;5;246mDataArray_t\u001b[0m R8 (85248,)\n",
      "        │   └───CoordinateZ \u001b[38;5;246mDataArray_t\u001b[0m R8 (85248,)\n",
      "        ├───\u001b[1m\u001b[38;5;183mTRI_3\u001b[0m \u001b[38;5;246mElements_t\u001b[0m I4 [5 0]\n",
      "        │   ├───ElementRange \u001b[38;5;246mIndexRange_t\u001b[0m I4 [     1 169976]\n",
      "        │   ├───ElementConnectivity \u001b[38;5;246mDataArray_t\u001b[0m I4 (509928,)\n",
      "        │   └───:CGNS#Distribution \u001b[38;5;246mUserDefinedData_t\u001b[0m \n",
      "        │       └───Element \u001b[38;5;246mDataArray_t\u001b[0m I4 [     0 169976 169976]\n",
      "        ├───\u001b[1m\u001b[38;5;183mBAR_2\u001b[0m \u001b[38;5;246mElements_t\u001b[0m I4 [3 0]\n",
      "        │   ├───ElementRange \u001b[38;5;246mIndexRange_t\u001b[0m I4 [169977 170496]\n",
      "        │   ├───ElementConnectivity \u001b[38;5;246mDataArray_t\u001b[0m I4 (1040,)\n",
      "        │   └───:CGNS#Distribution \u001b[38;5;246mUserDefinedData_t\u001b[0m \n",
      "        │       └───Element \u001b[38;5;246mDataArray_t\u001b[0m I4 [  0 520 520]\n",
      "        └───\u001b[1m\u001b[38;5;183mZoneBC\u001b[0m \u001b[38;5;246mZoneBC_t\u001b[0m \n",
      "            ├───Farfield \u001b[38;5;246mBC_t\u001b[0m \"Null\"\n",
      "            │   ├───GridLocation \u001b[38;5;246mGridLocation_t\u001b[0m \"EdgeCenter\"\n",
      "            │   ├───PointList \u001b[38;5;246mIndexArray_t\u001b[0m I4 (1, 58)\n",
      "            │   └───:CGNS#Distribution \u001b[38;5;246mUserDefinedData_t\u001b[0m \n",
      "            │       └───Index \u001b[38;5;246mDataArray_t\u001b[0m I4 [ 0 58 58]\n",
      "            └───Wing \u001b[38;5;246mBC_t\u001b[0m \"Null\"\n",
      "                ├───GridLocation \u001b[38;5;246mGridLocation_t\u001b[0m \"EdgeCenter\"\n",
      "                ├───PointList \u001b[38;5;246mIndexArray_t\u001b[0m I4 (1, 462)\n",
      "                └───:CGNS#Distribution \u001b[38;5;246mUserDefinedData_t\u001b[0m \n",
      "                    └───Index \u001b[38;5;246mDataArray_t\u001b[0m I4 [  0 462 462]\n"
     ]
    }
   ],
   "source": [
    "slice_tree = maia.algo.part.plane_slice(sol_tree, [0.,1.,0.,1], comm)\n",
    "dslice_tree = maia.factory.recover_dist_tree(slice_tree, comm)\n",
    "sys.stdout.flush()\n",
    "PT.print_tree(dslice_tree)"
   ]
  },
  {
   "cell_type": "markdown",
   "id": "4943df3f",
   "metadata": {},
   "source": [
    "Save the dist_tree into file called Slice.cgns with dist_tree_to_file."
   ]
  },
  {
   "cell_type": "code",
   "execution_count": 12,
   "id": "d86f4db7",
   "metadata": {
    "execution": {
     "iopub.execute_input": "2025-05-20T09:05:08.210430Z",
     "iopub.status.busy": "2025-05-20T09:05:08.210155Z",
     "iopub.status.idle": "2025-05-20T09:05:08.352893Z",
     "shell.execute_reply": "2025-05-20T09:05:08.352179Z"
    }
   },
   "outputs": [
    {
     "name": "stdout",
     "output_type": "stream",
     "text": [
      "Distributed write of a 3.9MiB dist_tree (Σ=3.9MiB)...\n",
      "Write completed [Slice.cgns] (0.71 s)\n"
     ]
    }
   ],
   "source": [
    "maia.io.dist_tree_to_file(dslice_tree, 'Slice.cgns', comm)"
   ]
  },
  {
   "cell_type": "markdown",
   "id": "eb8bfa7d",
   "metadata": {},
   "source": [
    "Now, update the slice creation to transfer the fields computed in\n",
    "the volumic tree to the slice."
   ]
  },
  {
   "cell_type": "code",
   "execution_count": 13,
   "id": "9bfc3310",
   "metadata": {
    "execution": {
     "iopub.execute_input": "2025-05-20T09:05:08.355892Z",
     "iopub.status.busy": "2025-05-20T09:05:08.355647Z",
     "iopub.status.idle": "2025-05-20T09:05:10.663501Z",
     "shell.execute_reply": "2025-05-20T09:05:10.662792Z"
    }
   },
   "outputs": [
    {
     "name": "stdout",
     "output_type": "stream",
     "text": [
      "Plane slice completed (2.22 s)\n",
      "\u001b[1m\u001b[38;5;33mCGNSTree\u001b[0m \u001b[38;5;246mCGNSTree_t\u001b[0m \n",
      "├───CGNSLibraryVersion \u001b[38;5;246mCGNSLibraryVersion_t\u001b[0m R4 [4.2]\n",
      "└───\u001b[1m\u001b[38;5;33mBase\u001b[0m \u001b[38;5;246mCGNSBase_t\u001b[0m I4 [2 3]\n",
      "    └───\u001b[1m\u001b[38;5;33mZone\u001b[0m \u001b[38;5;246mZone_t\u001b[0m I4 [[ 85248 169976      0]]\n",
      "        ├───\u001b[1m\u001b[38;5;183mZoneType\u001b[0m \u001b[38;5;246mZoneType_t\u001b[0m \"Unstructured\"\n",
      "        ├───\u001b[1m\u001b[38;5;183mFamilyName\u001b[0m \u001b[38;5;246mFamilyName_t\u001b[0m \"Unspecified\"\n",
      "        ├───\u001b[1m\u001b[38;5;183m:CGNS#Distribution\u001b[0m \u001b[38;5;246mUserDefinedData_t\u001b[0m \n",
      "        │   ├───Vertex \u001b[38;5;246mDataArray_t\u001b[0m I4 [    0 85248 85248]\n",
      "        │   └───Cell \u001b[38;5;246mDataArray_t\u001b[0m I4 [     0 169976 169976]\n",
      "        ├───\u001b[1m\u001b[38;5;183mGridCoordinates\u001b[0m \u001b[38;5;246mGridCoordinates_t\u001b[0m \n",
      "        │   ├───CoordinateX \u001b[38;5;246mDataArray_t\u001b[0m R8 (85248,)\n",
      "        │   ├───CoordinateY \u001b[38;5;246mDataArray_t\u001b[0m R8 (85248,)\n",
      "        │   └───CoordinateZ \u001b[38;5;246mDataArray_t\u001b[0m R8 (85248,)\n",
      "        ├───\u001b[1m\u001b[38;5;183mTRI_3\u001b[0m \u001b[38;5;246mElements_t\u001b[0m I4 [5 0]\n",
      "        │   ├───ElementRange \u001b[38;5;246mIndexRange_t\u001b[0m I4 [     1 169976]\n",
      "        │   ├───ElementConnectivity \u001b[38;5;246mDataArray_t\u001b[0m I4 (509928,)\n",
      "        │   └───:CGNS#Distribution \u001b[38;5;246mUserDefinedData_t\u001b[0m \n",
      "        │       └───Element \u001b[38;5;246mDataArray_t\u001b[0m I4 [     0 169976 169976]\n",
      "        ├───\u001b[1m\u001b[38;5;183mBAR_2\u001b[0m \u001b[38;5;246mElements_t\u001b[0m I4 [3 0]\n",
      "        │   ├───ElementRange \u001b[38;5;246mIndexRange_t\u001b[0m I4 [169977 170496]\n",
      "        │   ├───ElementConnectivity \u001b[38;5;246mDataArray_t\u001b[0m I4 (1040,)\n",
      "        │   └───:CGNS#Distribution \u001b[38;5;246mUserDefinedData_t\u001b[0m \n",
      "        │       └───Element \u001b[38;5;246mDataArray_t\u001b[0m I4 [  0 520 520]\n",
      "        └───\u001b[1m\u001b[38;5;183mZoneBC\u001b[0m \u001b[38;5;246mZoneBC_t\u001b[0m \n",
      "            ├───Farfield \u001b[38;5;246mBC_t\u001b[0m \"Null\"\n",
      "            │   ├───GridLocation \u001b[38;5;246mGridLocation_t\u001b[0m \"EdgeCenter\"\n",
      "            │   ├───PointList \u001b[38;5;246mIndexArray_t\u001b[0m I4 (1, 58)\n",
      "            │   └───:CGNS#Distribution \u001b[38;5;246mUserDefinedData_t\u001b[0m \n",
      "            │       └───Index \u001b[38;5;246mDataArray_t\u001b[0m I4 [ 0 58 58]\n",
      "            └───Wing \u001b[38;5;246mBC_t\u001b[0m \"Null\"\n",
      "                ├───GridLocation \u001b[38;5;246mGridLocation_t\u001b[0m \"EdgeCenter\"\n",
      "                ├───PointList \u001b[38;5;246mIndexArray_t\u001b[0m I4 (1, 462)\n",
      "                └───:CGNS#Distribution \u001b[38;5;246mUserDefinedData_t\u001b[0m \n",
      "                    └───Index \u001b[38;5;246mDataArray_t\u001b[0m I4 [  0 462 462]\n"
     ]
    }
   ],
   "source": [
    "slice_tree = maia.algo.part.plane_slice(sol_tree, [0.,1.,0.,1], comm, containers_name=['FlowSolution#Centers'])\n",
    "dslice_tree = maia.factory.recover_dist_tree(slice_tree, comm)\n",
    "PT.print_tree(dslice_tree)"
   ]
  },
  {
   "cell_type": "markdown",
   "id": "83b9b058",
   "metadata": {},
   "source": [
    "Save the modified dist_tree into the same file Slice.cgns."
   ]
  },
  {
   "cell_type": "code",
   "execution_count": 14,
   "id": "5454f212",
   "metadata": {
    "execution": {
     "iopub.execute_input": "2025-05-20T09:05:10.666213Z",
     "iopub.status.busy": "2025-05-20T09:05:10.665966Z",
     "iopub.status.idle": "2025-05-20T09:05:10.815885Z",
     "shell.execute_reply": "2025-05-20T09:05:10.815219Z"
    }
   },
   "outputs": [
    {
     "name": "stdout",
     "output_type": "stream",
     "text": [
      "Distributed write of a 3.9MiB dist_tree (Σ=3.9MiB)...\n",
      "Write completed [Slice.cgns] (0.64 s)\n"
     ]
    }
   ],
   "source": [
    "maia.io.dist_tree_to_file(dslice_tree, 'Slice.cgns', comm)"
   ]
  },
  {
   "cell_type": "markdown",
   "id": "54b8ec1a",
   "metadata": {},
   "source": [
    "## Step 6 -- Plot a 1d profile\n",
    "\n",
    "In this last step, we are going to update again our slice in order\n",
    "to plot a 1d profile $Pressure = f(x)$ around the Wing.\n",
    "\n",
    "Extracted fields on wing are stored in BCDataSet Wing/BCDataSet:Skin/NeumannData,\n",
    "but slice function can only transfer data found in FlowSolution or ZSR\n",
    "so we need to move the fields in a ZSR container\n",
    "This is done by the above snippet : "
   ]
  },
  {
   "cell_type": "code",
   "execution_count": 15,
   "id": "41726029",
   "metadata": {
    "execution": {
     "iopub.execute_input": "2025-05-20T09:05:10.818885Z",
     "iopub.status.busy": "2025-05-20T09:05:10.818620Z",
     "iopub.status.idle": "2025-05-20T09:05:10.827797Z",
     "shell.execute_reply": "2025-05-20T09:05:10.827026Z"
    }
   },
   "outputs": [
    {
     "name": "stdout",
     "output_type": "stream",
     "text": [
      "\u001b[1m\u001b[38;5;33mCGNSTree\u001b[0m \u001b[38;5;246mCGNSTree_t\u001b[0m \n",
      "├───CGNSLibraryVersion \u001b[38;5;246mCGNSLibraryVersion_t\u001b[0m R4 [4.2]\n",
      "└───\u001b[1m\u001b[38;5;33mBase\u001b[0m \u001b[38;5;246mCGNSBase_t\u001b[0m I4 [3 3]\n",
      "    ├───\u001b[1m\u001b[38;5;220mFTF\u001b[0m \u001b[38;5;246mFamily_t\u001b[0m \n",
      "    │   └───FamilyBC \u001b[38;5;246mFamilyBC_t\u001b[0m \"BCWallViscous\"\n",
      "    ├───\u001b[1m\u001b[38;5;220mFarfield\u001b[0m \u001b[38;5;246mFamily_t\u001b[0m \n",
      "    │   └───FamilyBC \u001b[38;5;246mFamilyBC_t\u001b[0m \"BCFarfield\"\n",
      "    ├───\u001b[1m\u001b[38;5;220mFuselage\u001b[0m \u001b[38;5;246mFamily_t\u001b[0m \n",
      "    │   └───FamilyBC \u001b[38;5;246mFamilyBC_t\u001b[0m \"BCWallViscous\"\n",
      "    ├───\u001b[1m\u001b[38;5;220mHTail\u001b[0m \u001b[38;5;246mFamily_t\u001b[0m \n",
      "    │   └───FamilyBC \u001b[38;5;246mFamilyBC_t\u001b[0m \"BCWallViscous\"\n",
      "    ├───\u001b[1m\u001b[38;5;220mSymmetry\u001b[0m \u001b[38;5;246mFamily_t\u001b[0m \n",
      "    │   └───FamilyBC \u001b[38;5;246mFamilyBC_t\u001b[0m \"BCSymmetryPlane\"\n",
      "    ├───\u001b[1m\u001b[38;5;220mVTail\u001b[0m \u001b[38;5;246mFamily_t\u001b[0m \n",
      "    │   └───FamilyBC \u001b[38;5;246mFamilyBC_t\u001b[0m \"BCWallViscous\"\n",
      "    ├───\u001b[1m\u001b[38;5;220mWing\u001b[0m \u001b[38;5;246mFamily_t\u001b[0m \n",
      "    │   └───FamilyBC \u001b[38;5;246mFamilyBC_t\u001b[0m \"BCWallViscous\"\n",
      "    ├───\u001b[1m\u001b[38;5;220mWalls\u001b[0m \u001b[38;5;246mFamily_t\u001b[0m \n",
      "    │   ├───.Solver#Output:forcesWalls \u001b[38;5;246mUserDefinedData_t\u001b[0m \n",
      "    │   │   ├───var \u001b[38;5;246mDataArray_t\u001b[0m \"flux_rou [...]_row\"\n",
      "    │   │   ├───pinf \u001b[38;5;246mDataArray_t\u001b[0m R8 [101325.296875]\n",
      "    │   │   ├───fluxcoeff \u001b[38;5;246mDataArray_t\u001b[0m R8 [0.00051035]\n",
      "    │   │   ├───torquecoeff \u001b[38;5;246mDataArray_t\u001b[0m R8 [0.00121421]\n",
      "    │   │   ├───xtorque \u001b[38;5;246mDataArray_t\u001b[0m R8 [2.02067161]\n",
      "    │   │   ├───ytorque \u001b[38;5;246mDataArray_t\u001b[0m R8 [0.]\n",
      "    │   │   ├───ztorque \u001b[38;5;246mDataArray_t\u001b[0m R8 [0.2711958]\n",
      "    │   │   └───loc \u001b[38;5;246mDataArray_t\u001b[0m \"interface\"\n",
      "    │   └───.Solver#Output:Skin \u001b[38;5;246mUserDefinedData_t\u001b[0m \n",
      "    │       ├───var \u001b[38;5;246mDataArray_t\u001b[0m \"Pressure [...]tude\"\n",
      "    │       ├───loc \u001b[38;5;246mDataArray_t\u001b[0m \"interface\"\n",
      "    │       └───writingmode \u001b[38;5;246mDataArray_t\u001b[0m I4 [1]\n",
      "    └───\u001b[1m\u001b[38;5;33mZone.P0.N0\u001b[0m \u001b[38;5;246mZone_t\u001b[0m I4 [[1481951 4537155       0]]\n",
      "        ├───\u001b[1m\u001b[38;5;183mZoneType\u001b[0m \u001b[38;5;246mZoneType_t\u001b[0m \"Unstructured\"\n",
      "        ├───\u001b[1m\u001b[38;5;183mGridCoordinates\u001b[0m \u001b[38;5;246mGridCoordinates_t\u001b[0m \n",
      "        │   ├───CoordinateX \u001b[38;5;246mDataArray_t\u001b[0m R8 (1481951,)\n",
      "        │   ├───CoordinateY \u001b[38;5;246mDataArray_t\u001b[0m R8 (1481951,)\n",
      "        │   └───CoordinateZ \u001b[38;5;246mDataArray_t\u001b[0m R8 (1481951,)\n",
      "        ├───\u001b[1m\u001b[38;5;183mNGonElements\u001b[0m \u001b[38;5;246mElements_t\u001b[0m I4 [22  0]\n",
      "        │   ├───ElementRange \u001b[38;5;246mIndexRange_t\u001b[0m I4 [       1 10239630]\n",
      "        │   ├───ElementStartOffset \u001b[38;5;246mDataArray_t\u001b[0m I4 (10239631,)\n",
      "        │   ├───ElementConnectivity \u001b[38;5;246mDataArray_t\u001b[0m I4 (33773682,)\n",
      "        │   ├───ParentElements \u001b[38;5;246mDataArray_t\u001b[0m I4 (10239630, 2)\n",
      "        │   └───:CGNS#GlobalNumbering \u001b[38;5;246mUserDefinedData_t\u001b[0m \n",
      "        │       └───Element \u001b[38;5;246mDataArray_t\u001b[0m I4 (10239630,)\n",
      "        ├───\u001b[1m\u001b[38;5;183mNFaceElements\u001b[0m \u001b[38;5;246mElements_t\u001b[0m I4 [23  0]\n",
      "        │   ├───ElementRange \u001b[38;5;246mIndexRange_t\u001b[0m I4 [10239631 14776785]\n",
      "        │   ├───ElementStartOffset \u001b[38;5;246mDataArray_t\u001b[0m I4 (4537156,)\n",
      "        │   ├───ElementConnectivity \u001b[38;5;246mDataArray_t\u001b[0m I4 (20342427,)\n",
      "        │   └───:CGNS#GlobalNumbering \u001b[38;5;246mUserDefinedData_t\u001b[0m \n",
      "        │       └───Element \u001b[38;5;246mDataArray_t\u001b[0m I4 (4537155,)\n",
      "        ├───\u001b[1m\u001b[38;5;183mZoneGridConnectivity\u001b[0m \u001b[38;5;246mZoneGridConnectivity_t\u001b[0m \n",
      "        ├───\u001b[1m\u001b[38;5;183m:CGNS#GlobalNumbering\u001b[0m \u001b[38;5;246mUserDefinedData_t\u001b[0m \n",
      "        │   ├───Vertex \u001b[38;5;246mDataArray_t\u001b[0m I4 (1481951,)\n",
      "        │   └───Cell \u001b[38;5;246mDataArray_t\u001b[0m I4 (4537155,)\n",
      "        ├───\u001b[1m\u001b[38;5;183mZoneBC\u001b[0m \u001b[38;5;246mZoneBC_t\u001b[0m \n",
      "        │   ├───FTF \u001b[38;5;246mBC_t\u001b[0m \"FamilySpecified\"\n",
      "        │   │   ├───GridLocation \u001b[38;5;246mGridLocation_t\u001b[0m \"FaceCenter\"\n",
      "        │   │   ├───PointList \u001b[38;5;246mIndexArray_t\u001b[0m I4 (1, 13827)\n",
      "        │   │   ├───:CGNS#GlobalNumbering \u001b[38;5;246mUserDefinedData_t\u001b[0m \n",
      "        │   │   │   └───Index \u001b[38;5;246mDataArray_t\u001b[0m I4 (13827,)\n",
      "        │   │   ├───FamilyName \u001b[38;5;246mFamilyName_t\u001b[0m \"FTF\"\n",
      "        │   │   ├───AdditionalFamilyName \u001b[38;5;246mAdditionalFamilyName_t\u001b[0m \"Walls\"\n",
      "        │   │   └───BCDataSet:Skin \u001b[38;5;246mBCDataSet_t\u001b[0m \"UserDefined\"\n",
      "        │   │       └───NeumannData \u001b[38;5;246mBCData_t\u001b[0m \n",
      "        │   │           ├───SkinFrictionX \u001b[38;5;246mDataArray_t\u001b[0m R8 (13827,)\n",
      "        │   │           ├───SkinFrictionY \u001b[38;5;246mDataArray_t\u001b[0m R8 (13827,)\n",
      "        │   │           ├───SkinFrictionZ \u001b[38;5;246mDataArray_t\u001b[0m R8 (13827,)\n",
      "        │   │           └───Pressure \u001b[38;5;246mDataArray_t\u001b[0m R8 (13827,)\n",
      "        │   ├───Farfield \u001b[38;5;246mBC_t\u001b[0m \"FamilySpecified\"\n",
      "        │   │   ├───GridLocation \u001b[38;5;246mGridLocation_t\u001b[0m \"FaceCenter\"\n",
      "        │   │   ├───PointList \u001b[38;5;246mIndexArray_t\u001b[0m I4 (1, 68)\n",
      "        │   │   ├───:CGNS#GlobalNumbering \u001b[38;5;246mUserDefinedData_t\u001b[0m \n",
      "        │   │   │   └───Index \u001b[38;5;246mDataArray_t\u001b[0m I4 (68,)\n",
      "        │   │   └───FamilyName \u001b[38;5;246mFamilyName_t\u001b[0m \"Farfield\"\n",
      "        │   ├───Fuselage \u001b[38;5;246mBC_t\u001b[0m \"FamilySpecified\"\n",
      "        │   │   ├───GridLocation \u001b[38;5;246mGridLocation_t\u001b[0m \"FaceCenter\"\n",
      "        │   │   ├───PointList \u001b[38;5;246mIndexArray_t\u001b[0m I4 (1, 26535)\n",
      "        │   │   ├───:CGNS#GlobalNumbering \u001b[38;5;246mUserDefinedData_t\u001b[0m \n",
      "        │   │   │   └───Index \u001b[38;5;246mDataArray_t\u001b[0m I4 (26535,)\n",
      "        │   │   ├───FamilyName \u001b[38;5;246mFamilyName_t\u001b[0m \"Fuselage\"\n",
      "        │   │   ├───AdditionalFamilyName \u001b[38;5;246mAdditionalFamilyName_t\u001b[0m \"Walls\"\n",
      "        │   │   └───BCDataSet:Skin \u001b[38;5;246mBCDataSet_t\u001b[0m \"UserDefined\"\n",
      "        │   │       └───NeumannData \u001b[38;5;246mBCData_t\u001b[0m \n",
      "        │   │           ├───SkinFrictionX \u001b[38;5;246mDataArray_t\u001b[0m R8 (26535,)\n",
      "        │   │           ├───SkinFrictionY \u001b[38;5;246mDataArray_t\u001b[0m R8 (26535,)\n",
      "        │   │           ├───SkinFrictionZ \u001b[38;5;246mDataArray_t\u001b[0m R8 (26535,)\n",
      "        │   │           └───Pressure \u001b[38;5;246mDataArray_t\u001b[0m R8 (26535,)\n",
      "        │   ├───HTail \u001b[38;5;246mBC_t\u001b[0m \"FamilySpecified\"\n",
      "        │   │   ├───GridLocation \u001b[38;5;246mGridLocation_t\u001b[0m \"FaceCenter\"\n",
      "        │   │   ├───PointList \u001b[38;5;246mIndexArray_t\u001b[0m I4 (1, 20108)\n",
      "        │   │   ├───:CGNS#GlobalNumbering \u001b[38;5;246mUserDefinedData_t\u001b[0m \n",
      "        │   │   │   └───Index \u001b[38;5;246mDataArray_t\u001b[0m I4 (20108,)\n",
      "        │   │   ├───FamilyName \u001b[38;5;246mFamilyName_t\u001b[0m \"HTail\"\n",
      "        │   │   ├───AdditionalFamilyName \u001b[38;5;246mAdditionalFamilyName_t\u001b[0m \"Walls\"\n",
      "        │   │   └───BCDataSet:Skin \u001b[38;5;246mBCDataSet_t\u001b[0m \"UserDefined\"\n",
      "        │   │       └───NeumannData \u001b[38;5;246mBCData_t\u001b[0m \n",
      "        │   │           ├───SkinFrictionX \u001b[38;5;246mDataArray_t\u001b[0m R8 (20108,)\n",
      "        │   │           ├───SkinFrictionY \u001b[38;5;246mDataArray_t\u001b[0m R8 (20108,)\n",
      "        │   │           ├───SkinFrictionZ \u001b[38;5;246mDataArray_t\u001b[0m R8 (20108,)\n",
      "        │   │           └───Pressure \u001b[38;5;246mDataArray_t\u001b[0m R8 (20108,)\n",
      "        │   ├───Symmetry \u001b[38;5;246mBC_t\u001b[0m \"FamilySpecified\"\n",
      "        │   │   ├───GridLocation \u001b[38;5;246mGridLocation_t\u001b[0m \"FaceCenter\"\n",
      "        │   │   ├───PointList \u001b[38;5;246mIndexArray_t\u001b[0m I4 (1, 13360)\n",
      "        │   │   ├───:CGNS#GlobalNumbering \u001b[38;5;246mUserDefinedData_t\u001b[0m \n",
      "        │   │   │   └───Index \u001b[38;5;246mDataArray_t\u001b[0m I4 (13360,)\n",
      "        │   │   └───FamilyName \u001b[38;5;246mFamilyName_t\u001b[0m \"Symmetry\"\n",
      "        │   ├───VTail \u001b[38;5;246mBC_t\u001b[0m \"FamilySpecified\"\n",
      "        │   │   ├───GridLocation \u001b[38;5;246mGridLocation_t\u001b[0m \"FaceCenter\"\n",
      "        │   │   ├───PointList \u001b[38;5;246mIndexArray_t\u001b[0m I4 (1, 4724)\n",
      "        │   │   ├───:CGNS#GlobalNumbering \u001b[38;5;246mUserDefinedData_t\u001b[0m \n",
      "        │   │   │   └───Index \u001b[38;5;246mDataArray_t\u001b[0m I4 (4724,)\n",
      "        │   │   ├───FamilyName \u001b[38;5;246mFamilyName_t\u001b[0m \"VTail\"\n",
      "        │   │   ├───AdditionalFamilyName \u001b[38;5;246mAdditionalFamilyName_t\u001b[0m \"Walls\"\n",
      "        │   │   └───BCDataSet:Skin \u001b[38;5;246mBCDataSet_t\u001b[0m \"UserDefined\"\n",
      "        │   │       └───NeumannData \u001b[38;5;246mBCData_t\u001b[0m \n",
      "        │   │           ├───SkinFrictionX \u001b[38;5;246mDataArray_t\u001b[0m R8 (4724,)\n",
      "        │   │           ├───SkinFrictionY \u001b[38;5;246mDataArray_t\u001b[0m R8 (4724,)\n",
      "        │   │           ├───SkinFrictionZ \u001b[38;5;246mDataArray_t\u001b[0m R8 (4724,)\n",
      "        │   │           └───Pressure \u001b[38;5;246mDataArray_t\u001b[0m R8 (4724,)\n",
      "        │   └───Wing \u001b[38;5;246mBC_t\u001b[0m \"FamilySpecified\"\n",
      "        │       ├───GridLocation \u001b[38;5;246mGridLocation_t\u001b[0m \"FaceCenter\"\n",
      "        │       ├───PointList \u001b[38;5;246mIndexArray_t\u001b[0m I4 (1, 58211)\n",
      "        │       ├───:CGNS#GlobalNumbering \u001b[38;5;246mUserDefinedData_t\u001b[0m \n",
      "        │       │   └───Index \u001b[38;5;246mDataArray_t\u001b[0m I4 (58211,)\n",
      "        │       ├───FamilyName \u001b[38;5;246mFamilyName_t\u001b[0m \"Wing\"\n",
      "        │       ├───AdditionalFamilyName \u001b[38;5;246mAdditionalFamilyName_t\u001b[0m \"Walls\"\n",
      "        │       └───BCDataSet:Skin \u001b[38;5;246mBCDataSet_t\u001b[0m \"UserDefined\"\n",
      "        │           └───NeumannData \u001b[38;5;246mBCData_t\u001b[0m \n",
      "        │               ├───SkinFrictionX \u001b[38;5;246mDataArray_t\u001b[0m R8 (58211,)\n",
      "        │               ├───SkinFrictionY \u001b[38;5;246mDataArray_t\u001b[0m R8 (58211,)\n",
      "        │               ├───SkinFrictionZ \u001b[38;5;246mDataArray_t\u001b[0m R8 (58211,)\n",
      "        │               └───Pressure \u001b[38;5;246mDataArray_t\u001b[0m R8 (58211,)\n",
      "        ├───\u001b[1m\u001b[38;5;183mFamilyName\u001b[0m \u001b[38;5;246mFamilyName_t\u001b[0m \"Unspecified\"\n",
      "        ├───\u001b[1m\u001b[38;5;183mFlowSolution#Centers\u001b[0m \u001b[38;5;246mFlowSolution_t\u001b[0m \n",
      "        │   ├───GridLocation \u001b[38;5;246mGridLocation_t\u001b[0m \"CellCenter\"\n",
      "        │   ├───Density \u001b[38;5;246mDataArray_t\u001b[0m R8 (4537155,)\n",
      "        │   ├───MomentumX \u001b[38;5;246mDataArray_t\u001b[0m R8 (4537155,)\n",
      "        │   ├───MomentumY \u001b[38;5;246mDataArray_t\u001b[0m R8 (4537155,)\n",
      "        │   ├───MomentumZ \u001b[38;5;246mDataArray_t\u001b[0m R8 (4537155,)\n",
      "        │   └───EnergyStagnationDensity \u001b[38;5;246mDataArray_t\u001b[0m R8 (4537155,)\n",
      "        └───\u001b[1m\u001b[38;5;183mZSR_Wing\u001b[0m \u001b[38;5;246mZoneSubRegion_t\u001b[0m \n",
      "            ├───BCRegionName \u001b[38;5;246mDescriptor_t\u001b[0m \"Wing\"\n",
      "            ├───SkinFrictionX \u001b[38;5;246mDataArray_t\u001b[0m R8 (58211,)\n",
      "            ├───SkinFrictionY \u001b[38;5;246mDataArray_t\u001b[0m R8 (58211,)\n",
      "            ├───SkinFrictionZ \u001b[38;5;246mDataArray_t\u001b[0m R8 (58211,)\n",
      "            └───Pressure \u001b[38;5;246mDataArray_t\u001b[0m R8 (58211,)\n"
     ]
    }
   ],
   "source": [
    "zone = PT.get_node_from_label(sol_tree, 'Zone_t')\n",
    "bc_wing = PT.get_node_from_name_and_label(sol_tree, 'Wing', 'BC_t')\n",
    "if bc_wing is not None:\n",
    "    bc_wing_dataset = PT.get_node_from_label(bc_wing, 'BCData_t')\n",
    "    bc_wing_fields = {PT.get_name(n) : PT.get_value(n) for n in \n",
    "                    PT.get_children_from_label(bc_wing_dataset, 'DataArray_t')}\n",
    "\n",
    "    zsr_wing = PT.new_ZoneSubRegion('ZSR_Wing', bc_name=\"Wing\", fields=bc_wing_fields, parent=zone)\n",
    "PT.print_tree(sol_tree)"
   ]
  },
  {
   "cell_type": "markdown",
   "id": "c659964e",
   "metadata": {},
   "source": [
    "Update the slice to get the created ZSR, in addition to the volumic fields.\n",
    "What is the location of ZSR_Wing on output mesh ?"
   ]
  },
  {
   "cell_type": "code",
   "execution_count": 16,
   "id": "77cc7262",
   "metadata": {
    "execution": {
     "iopub.execute_input": "2025-05-20T09:05:10.831065Z",
     "iopub.status.busy": "2025-05-20T09:05:10.830849Z",
     "iopub.status.idle": "2025-05-20T09:05:14.331960Z",
     "shell.execute_reply": "2025-05-20T09:05:14.331284Z"
    }
   },
   "outputs": [
    {
     "name": "stdout",
     "output_type": "stream",
     "text": [
      "\u001b[1m\u001b[38;5;33mCGNSTree\u001b[0m \u001b[38;5;246mCGNSTree_t\u001b[0m \n",
      "Plane slice completed (3.65 s)\n",
      "├───CGNSLibraryVersion \u001b[38;5;246mCGNSLibraryVersion_t\u001b[0m R4 [4.2]\n",
      "└───\u001b[1m\u001b[38;5;33mBase\u001b[0m \u001b[38;5;246mCGNSBase_t\u001b[0m I4 [2 3]\n",
      "    └───\u001b[1m\u001b[38;5;33mZone.P0.N0\u001b[0m \u001b[38;5;246mZone_t\u001b[0m I4 [[ 85248 169976      0]]\n",
      "        ├───\u001b[1m\u001b[38;5;183mZoneType\u001b[0m \u001b[38;5;246mZoneType_t\u001b[0m \"Unstructured\"\n",
      "        ├───\u001b[1m\u001b[38;5;183mGridCoordinates\u001b[0m \u001b[38;5;246mGridCoordinates_t\u001b[0m \n",
      "        │   ├───CoordinateX \u001b[38;5;246mDataArray_t\u001b[0m R8 (85248,)\n",
      "        │   ├───CoordinateY \u001b[38;5;246mDataArray_t\u001b[0m R8 (85248,)\n",
      "        │   └───CoordinateZ \u001b[38;5;246mDataArray_t\u001b[0m R8 (85248,)\n",
      "        ├───\u001b[1m\u001b[38;5;183mTRI_3\u001b[0m \u001b[38;5;246mElements_t\u001b[0m I4 [5 0]\n",
      "        │   ├───ElementRange \u001b[38;5;246mIndexRange_t\u001b[0m I4 [     1 169976]\n",
      "        │   ├───ElementConnectivity \u001b[38;5;246mDataArray_t\u001b[0m I4 (509928,)\n",
      "        │   └───:CGNS#GlobalNumbering \u001b[38;5;246mUserDefinedData_t\u001b[0m \n",
      "        │       ├───Element \u001b[38;5;246mDataArray_t\u001b[0m I4 (169976,)\n",
      "        │       └───Sections \u001b[38;5;246mDataArray_t\u001b[0m I4 (169976,)\n",
      "        ├───\u001b[1m\u001b[38;5;183mBAR_2\u001b[0m \u001b[38;5;246mElements_t\u001b[0m I4 [3 0]\n",
      "        │   ├───ElementRange \u001b[38;5;246mIndexRange_t\u001b[0m I8 [169977 170496]\n",
      "        │   ├───ElementConnectivity \u001b[38;5;246mDataArray_t\u001b[0m I4 (1040,)\n",
      "        │   └───:CGNS#GlobalNumbering \u001b[38;5;246mUserDefinedData_t\u001b[0m \n",
      "        │       ├───Element \u001b[38;5;246mDataArray_t\u001b[0m I4 (520,)\n",
      "        │       └───Sections \u001b[38;5;246mDataArray_t\u001b[0m I4 (520,)\n",
      "        ├───\u001b[1m\u001b[38;5;183mZoneBC\u001b[0m \u001b[38;5;246mZoneBC_t\u001b[0m \n",
      "        │   ├───Farfield \u001b[38;5;246mBC_t\u001b[0m \"Null\"\n",
      "        │   │   ├───GridLocation \u001b[38;5;246mGridLocation_t\u001b[0m \"EdgeCenter\"\n",
      "        │   │   ├───PointList \u001b[38;5;246mIndexArray_t\u001b[0m I4 (1, 58)\n",
      "        │   │   └───:CGNS#GlobalNumbering \u001b[38;5;246mUserDefinedData_t\u001b[0m \n",
      "        │   │       └───Index \u001b[38;5;246mDataArray_t\u001b[0m I4 (58,)\n",
      "        │   └───Wing \u001b[38;5;246mBC_t\u001b[0m \"Null\"\n",
      "        │       ├───GridLocation \u001b[38;5;246mGridLocation_t\u001b[0m \"EdgeCenter\"\n",
      "        │       ├───PointList \u001b[38;5;246mIndexArray_t\u001b[0m I4 (1, 462)\n",
      "        │       └───:CGNS#GlobalNumbering \u001b[38;5;246mUserDefinedData_t\u001b[0m \n",
      "        │           └───Index \u001b[38;5;246mDataArray_t\u001b[0m I4 (462,)\n",
      "        ├───\u001b[1m\u001b[38;5;183m:CGNS#GlobalNumbering\u001b[0m \u001b[38;5;246mUserDefinedData_t\u001b[0m \n",
      "        │   ├───Vertex \u001b[38;5;246mDataArray_t\u001b[0m I4 (85248,)\n",
      "        │   └───Cell \u001b[38;5;246mDataArray_t\u001b[0m I4 (169976,)\n",
      "        ├───\u001b[1m\u001b[38;5;183mmaia#surface_data\u001b[0m \u001b[38;5;246mUserDefinedData_t\u001b[0m \n",
      "        │   ├───Cell_parent_gnum \u001b[38;5;246mDataArray_t\u001b[0m I4 (169976,)\n",
      "        │   ├───Vtx_parent_gnum \u001b[38;5;246mDataArray_t\u001b[0m I4 (276282,)\n",
      "        │   ├───Vtx_parent_idx \u001b[38;5;246mDataArray_t\u001b[0m I4 (85249,)\n",
      "        │   ├───Vtx_parent_weight \u001b[38;5;246mDataArray_t\u001b[0m R8 (276282,)\n",
      "        │   ├───Surface \u001b[38;5;246mDataArray_t\u001b[0m R8 (509928,)\n",
      "        │   └───Face_parent_bnd_edges \u001b[38;5;246mDataArray_t\u001b[0m I4 (520,)\n",
      "        ├───\u001b[1m\u001b[38;5;183mFamilyName\u001b[0m \u001b[38;5;246mFamilyName_t\u001b[0m \"Unspecified\"\n",
      "        ├───\u001b[1m\u001b[38;5;183mZSR_Wing\u001b[0m \u001b[38;5;246mFlowSolution_t\u001b[0m \n",
      "        │   ├───GridLocation \u001b[38;5;246mGridLocation_t\u001b[0m \"EdgeCenter\"\n",
      "        │   ├───SkinFrictionX \u001b[38;5;246mDataArray_t\u001b[0m R8 (462,)\n",
      "        │   ├───SkinFrictionY \u001b[38;5;246mDataArray_t\u001b[0m R8 (462,)\n",
      "        │   ├───SkinFrictionZ \u001b[38;5;246mDataArray_t\u001b[0m R8 (462,)\n",
      "        │   ├───Pressure \u001b[38;5;246mDataArray_t\u001b[0m R8 (462,)\n",
      "        │   ├───PointList \u001b[38;5;246mIndexArray_t\u001b[0m I8 (1, 462)\n",
      "        │   └───:CGNS#GlobalNumbering \u001b[38;5;246mUserDefinedData_t\u001b[0m \n",
      "        │       └───Index \u001b[38;5;246mDataArray_t\u001b[0m I4 (462,)\n",
      "        └───\u001b[1m\u001b[38;5;183mFlowSolution#Centers\u001b[0m \u001b[38;5;246mFlowSolution_t\u001b[0m \n",
      "            ├───GridLocation \u001b[38;5;246mGridLocation_t\u001b[0m \"CellCenter\"\n",
      "            ├───Density \u001b[38;5;246mDataArray_t\u001b[0m R8 (169976,)\n",
      "            ├───MomentumX \u001b[38;5;246mDataArray_t\u001b[0m R8 (169976,)\n",
      "            ├───MomentumY \u001b[38;5;246mDataArray_t\u001b[0m R8 (169976,)\n",
      "            ├───MomentumZ \u001b[38;5;246mDataArray_t\u001b[0m R8 (169976,)\n",
      "            └───EnergyStagnationDensity \u001b[38;5;246mDataArray_t\u001b[0m R8 (169976,)\n"
     ]
    }
   ],
   "source": [
    "slice_tree = maia.algo.part.plane_slice(sol_tree, [0.,1.,0.,1], comm, containers_name=['ZSR_Wing', 'FlowSolution#Centers'])\n",
    "PT.print_tree(slice_tree)\n"
   ]
  },
  {
   "cell_type": "markdown",
   "id": "411e4bda",
   "metadata": {},
   "source": [
    "To plot our profile, we need to compute the corresponding X center of each generated ZSR_Wing element : \n",
    "- Compute the relevevant centers in the output sliced zone.\n",
    "- Get the PointList of elements belonging to ZSR_Wing.\n",
    "- Use it to access centers arrays to extract X coordinate (be careful, pl must be shifted to start at 0).\n",
    "- Get the pressure field in the ZSR.\n",
    "\n",
    "NB, some ranks may not know the ZSR_Wing at all. Create empty arrays in this case."
   ]
  },
  {
   "cell_type": "code",
   "execution_count": 17,
   "id": "d3d310cb",
   "metadata": {
    "execution": {
     "iopub.execute_input": "2025-05-20T09:05:14.334760Z",
     "iopub.status.busy": "2025-05-20T09:05:14.334532Z",
     "iopub.status.idle": "2025-05-20T09:05:14.345971Z",
     "shell.execute_reply": "2025-05-20T09:05:14.345215Z"
    }
   },
   "outputs": [
    {
     "name": "stdout",
     "output_type": "stream",
     "text": [
      "\u001b[1m\u001b[38;5;33mZone.P0.N0\u001b[0m \u001b[38;5;246mZone_t\u001b[0m I4 [[ 85248 169976      0]]\n",
      "├───\u001b[1m\u001b[38;5;183mZoneType\u001b[0m \u001b[38;5;246mZoneType_t\u001b[0m \"Unstructured\"\n",
      "├───\u001b[1m\u001b[38;5;183mGridCoordinates\u001b[0m \u001b[38;5;246mGridCoordinates_t\u001b[0m \n",
      "│   ├───CoordinateX \u001b[38;5;246mDataArray_t\u001b[0m R8 (85248,)\n",
      "│   ├───CoordinateY \u001b[38;5;246mDataArray_t\u001b[0m R8 (85248,)\n",
      "│   └───CoordinateZ \u001b[38;5;246mDataArray_t\u001b[0m R8 (85248,)\n",
      "├───\u001b[1m\u001b[38;5;183mTRI_3\u001b[0m \u001b[38;5;246mElements_t\u001b[0m I4 [5 0]\n",
      "│   ├───ElementRange \u001b[38;5;246mIndexRange_t\u001b[0m I4 [     1 169976]\n",
      "│   ├───ElementConnectivity \u001b[38;5;246mDataArray_t\u001b[0m I4 (509928,)\n",
      "│   └───:CGNS#GlobalNumbering \u001b[38;5;246mUserDefinedData_t\u001b[0m \n",
      "│       ├───Element \u001b[38;5;246mDataArray_t\u001b[0m I4 (169976,)\n",
      "│       └───Sections \u001b[38;5;246mDataArray_t\u001b[0m I4 (169976,)\n",
      "├───\u001b[1m\u001b[38;5;183mBAR_2\u001b[0m \u001b[38;5;246mElements_t\u001b[0m I4 [3 0]\n",
      "│   ├───ElementRange \u001b[38;5;246mIndexRange_t\u001b[0m I8 [169977 170496]\n",
      "│   ├───ElementConnectivity \u001b[38;5;246mDataArray_t\u001b[0m I4 (1040,)\n",
      "│   └───:CGNS#GlobalNumbering \u001b[38;5;246mUserDefinedData_t\u001b[0m \n",
      "│       ├───Element \u001b[38;5;246mDataArray_t\u001b[0m I4 (520,)\n",
      "│       └───Sections \u001b[38;5;246mDataArray_t\u001b[0m I4 (520,)\n",
      "├───\u001b[1m\u001b[38;5;183mZoneBC\u001b[0m \u001b[38;5;246mZoneBC_t\u001b[0m \n",
      "│   ├───Farfield \u001b[38;5;246mBC_t\u001b[0m \"Null\"\n",
      "│   │   ├───GridLocation \u001b[38;5;246mGridLocation_t\u001b[0m \"EdgeCenter\"\n",
      "│   │   ├───PointList \u001b[38;5;246mIndexArray_t\u001b[0m I4 (1, 58)\n",
      "│   │   └───:CGNS#GlobalNumbering \u001b[38;5;246mUserDefinedData_t\u001b[0m \n",
      "│   │       └───Index \u001b[38;5;246mDataArray_t\u001b[0m I4 (58,)\n",
      "│   └───Wing \u001b[38;5;246mBC_t\u001b[0m \"Null\"\n",
      "│       ├───GridLocation \u001b[38;5;246mGridLocation_t\u001b[0m \"EdgeCenter\"\n",
      "│       ├───PointList \u001b[38;5;246mIndexArray_t\u001b[0m I4 (1, 462)\n",
      "│       └───:CGNS#GlobalNumbering \u001b[38;5;246mUserDefinedData_t\u001b[0m \n",
      "│           └───Index \u001b[38;5;246mDataArray_t\u001b[0m I4 (462,)\n",
      "├───\u001b[1m\u001b[38;5;183m:CGNS#GlobalNumbering\u001b[0m \u001b[38;5;246mUserDefinedData_t\u001b[0m \n",
      "│   ├───Vertex \u001b[38;5;246mDataArray_t\u001b[0m I4 (85248,)\n",
      "│   └───Cell \u001b[38;5;246mDataArray_t\u001b[0m I4 (169976,)\n",
      "├───\u001b[1m\u001b[38;5;183mmaia#surface_data\u001b[0m \u001b[38;5;246mUserDefinedData_t\u001b[0m \n",
      "│   ├───Cell_parent_gnum \u001b[38;5;246mDataArray_t\u001b[0m I4 (169976,)\n",
      "│   ├───Vtx_parent_gnum \u001b[38;5;246mDataArray_t\u001b[0m I4 (276282,)\n",
      "│   ├───Vtx_parent_idx \u001b[38;5;246mDataArray_t\u001b[0m I4 (85249,)\n",
      "│   ├───Vtx_parent_weight \u001b[38;5;246mDataArray_t\u001b[0m R8 (276282,)\n",
      "│   ├───Surface \u001b[38;5;246mDataArray_t\u001b[0m R8 (509928,)\n",
      "│   └───Face_parent_bnd_edges \u001b[38;5;246mDataArray_t\u001b[0m I4 (520,)\n",
      "├───\u001b[1m\u001b[38;5;183mFamilyName\u001b[0m \u001b[38;5;246mFamilyName_t\u001b[0m \"Unspecified\"\n",
      "├───\u001b[1m\u001b[38;5;183mZSR_Wing\u001b[0m \u001b[38;5;246mFlowSolution_t\u001b[0m \n",
      "│   ├───GridLocation \u001b[38;5;246mGridLocation_t\u001b[0m \"EdgeCenter\"\n",
      "│   ├───SkinFrictionX \u001b[38;5;246mDataArray_t\u001b[0m R8 (462,)\n",
      "│   ├───SkinFrictionY \u001b[38;5;246mDataArray_t\u001b[0m R8 (462,)\n",
      "│   ├───SkinFrictionZ \u001b[38;5;246mDataArray_t\u001b[0m R8 (462,)\n",
      "│   ├───Pressure \u001b[38;5;246mDataArray_t\u001b[0m R8 (462,)\n",
      "│   ├───PointList \u001b[38;5;246mIndexArray_t\u001b[0m I8 (1, 462)\n",
      "│   └───:CGNS#GlobalNumbering \u001b[38;5;246mUserDefinedData_t\u001b[0m \n",
      "│       └───Index \u001b[38;5;246mDataArray_t\u001b[0m I4 (462,)\n",
      "└───\u001b[1m\u001b[38;5;183mFlowSolution#Centers\u001b[0m \u001b[38;5;246mFlowSolution_t\u001b[0m \n",
      "    ├───GridLocation \u001b[38;5;246mGridLocation_t\u001b[0m \"CellCenter\"\n",
      "    ├───Density \u001b[38;5;246mDataArray_t\u001b[0m R8 (169976,)\n",
      "    ├───MomentumX \u001b[38;5;246mDataArray_t\u001b[0m R8 (169976,)\n",
      "    ├───MomentumY \u001b[38;5;246mDataArray_t\u001b[0m R8 (169976,)\n",
      "    ├───MomentumZ \u001b[38;5;246mDataArray_t\u001b[0m R8 (169976,)\n",
      "    └───EnergyStagnationDensity \u001b[38;5;246mDataArray_t\u001b[0m R8 (169976,)\n"
     ]
    }
   ],
   "source": [
    "slice_zone = PT.get_node_from_label(slice_tree, 'Zone_t')\n",
    "zsr_n = PT.get_child_from_name(slice_zone, 'ZSR_Wing')\n",
    "PT.print_tree(slice_zone)\n",
    "if zsr_n is not None:\n",
    "    edge_center = maia.algo.geometry.compute_elements_center(slice_zone, 1)\n",
    "    # > Get edge offset\n",
    "    is_edge = lambda n: PT.get_label(n)=='Elements_t' and PT.Element.CGNSName(n)=='BAR_2'\n",
    "    edge_n = PT.get_child_from_predicate(slice_zone, is_edge)\n",
    "    er_offset = PT.Element.Range(edge_n)[0]\n",
    "    zsr_idx = PT.get_child_from_name(zsr_n, 'PointList')[1][0] - er_offset\n",
    "    if edge_center is not None:\n",
    "        cx = edge_center[0::3][zsr_idx]\n",
    "        pressure = PT.get_value(PT.get_child_from_name(zsr_n, 'Pressure'))\n",
    "else :\n",
    "    cx = np.empty(0, dtype=np.float64)\n",
    "    pressure = np.empty(0, dtype=np.float64)\n",
    "    \n",
    "    # Finaly, you can send the data to plot_1d_profile function and view the created png file\n",
    "    plot_1d_profile(cx, pressure, comm, xlabel='X', ylabel='Pressure')"
   ]
  }
 ],
 "metadata": {
  "jupytext": {
   "cell_metadata_filter": "-all",
   "main_language": "python",
   "notebook_metadata_filter": "-all"
  },
  "kernelspec": {
   "display_name": "Python 3",
   "language": "python",
   "name": "python3"
  },
  "language_info": {
   "codemirror_mode": {
    "name": "ipython",
    "version": 3
   },
   "file_extension": ".py",
   "mimetype": "text/x-python",
   "name": "python",
   "nbconvert_exporter": "python",
   "pygments_lexer": "ipython3",
   "version": "3.8.14"
  },
  "widgets": {
   "application/vnd.jupyter.widget-state+json": {
    "state": {},
    "version_major": 2,
    "version_minor": 0
   }
  }
 },
 "nbformat": 4,
 "nbformat_minor": 5
}
