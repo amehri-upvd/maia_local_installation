{
 "cells": [
  {
   "cell_type": "markdown",
   "id": "c83462ea",
   "metadata": {},
   "source": [
    "# Developing and Comparing Sequential and Distributed Algorithms with maia"
   ]
  },
  {
   "cell_type": "markdown",
   "id": "ab0aaeeb",
   "metadata": {},
   "source": [
    "## Introduction\n",
    "\n",
    "Using **Maia**, a Python/C++ library for working with CGNS meshes in parallel with MPI. The idea of this activity is to write an algorithm in a \"distributed way\", ie. operating on a distributed tree.\n",
    "\n",
    "The objective is to compare three methods for calculating the geometric centers of mesh cells from a CGNS tree:\n",
    "1. A sequential algorithm,\n",
    "2. A parallel algorithm on a partitioned tree,\n",
    "3. A fully distributed algorithm.\n",
    "\n",
    "You'll discover how to: \n",
    "- Load CGNS trees in distributed, sequential, partitioned version and compare the execution times,\n",
    "- Apply field calculations across unstructured meshes,\n",
    "- Utilize Maia's exchange and indexing tools to perform tasks in parallel,\n",
    "- Examine the trade-offs between each method's design and performance.\n",
    "\n",
    "These exercises, which are particularly appropriate for individuals wishing to expand or enhance parallel mesh processing pipelines, demonstrates a common development task when developing new functionalities in Maia."
   ]
  },
  {
   "cell_type": "markdown",
   "id": "6ab39a11",
   "metadata": {},
   "source": [
    "## Step 1 -- import modules\n",
    "\n",
    "Maia operates in parallel! The so-called COMM_WORLD communicator must be imported from mpi4py first because practically all functions require an MPI communicator.\n",
    "We need to import COMM_WORLD communicator from mpi4py, numpy, and time."
   ]
  },
  {
   "cell_type": "code",
   "execution_count": 1,
   "id": "528c80f7",
   "metadata": {},
   "outputs": [],
   "source": [
    "import time\n",
    "import numpy as np\n",
    "from mpi4py import MPI\n",
    "comm = MPI.COMM_WORLD"
   ]
  },
  {
   "cell_type": "markdown",
   "id": "d134ca24",
   "metadata": {},
   "source": [
    "Open the documentation that will be useful for this TP first: /Maia/1.3/index.html https://onera.github.io.\n",
    "Take a brief look at the structure of the various modules (UserManual) and the definition of parallel CGNSTree (Introducion > Maia CGNS Tree). Then, import maia and the module pytree of maia. "
   ]
  },
  {
   "cell_type": "code",
   "execution_count": 2,
   "id": "3c949c27",
   "metadata": {},
   "outputs": [],
   "source": [
    "import maia\n",
    "import maia.pytree as PT"
   ]
  },
  {
   "cell_type": "code",
   "execution_count": 3,
   "id": "7710e674",
   "metadata": {},
   "outputs": [],
   "source": [
    "FILENAME = '/home/jcoulet/Public/maia_training/MESHES/tetra10.hdf'"
   ]
  },
  {
   "cell_type": "code",
   "execution_count": 4,
   "id": "90caa7bb",
   "metadata": {},
   "outputs": [],
   "source": [
    "def _generate_case():\n",
    "    from pathlib import Path\n",
    "    if not Path(FILENAME).exists():\n",
    "        tree = maia.factory.generate_dist_block(11, 'TETRA_4', comm)\n",
    "        maia.io.dist_tree_to_file(tree, FILENAME, comm)"
   ]
  },
  {
   "cell_type": "markdown",
   "id": "1501c39c",
   "metadata": {},
   "source": [
    "## Step 2 -- Create an instance\n",
    "\n",
    "- Create an instance of the DIndexer class by providing:\n",
    "\n",
    "    - a distribution tree (distri),\n",
    "\n",
    "    - a list of indices (indices),\n",
    "\n",
    "    - and a communicator (comm, e.g., from MPI).\n",
    "\n",
    "- Use the take(data_in) method to extract and transfer data based on the given indices and the parallel distribution.\n",
    "\n",
    "- The method returns the portion of the data that corresponds to the local partition."
   ]
  },
  {
   "cell_type": "code",
   "execution_count": 5,
   "id": "eea13287",
   "metadata": {
    "lines_to_next_cell": 1
   },
   "outputs": [],
   "source": [
    "class DIndexer:\n",
    "    def __init__(self, distri, indices, comm):\n",
    "        from maia.transfer import protocols as EP\n",
    "        self.btp = EP.GlobalIndexer(distri, indices-1, comm)\n",
    "\n",
    "    def take(self, data_in):\n",
    "        return self.btp.Take(data_in)\n"
   ]
  },
  {
   "cell_type": "markdown",
   "id": "f01646e9",
   "metadata": {},
   "source": [
    "## Step 3 -- Calcul cells's center withn a CGNS zone\n",
    "\n",
    "- Create a function called compute_cc_seq(tree) that determines each cell's geometric center, or centroid, within a CGNS zone.\n",
    "\n",
    "- Within the function:\n",
    "\n",
    "    - Use PT.get_node_from_label(tree, 'Zone_t') to retrieve the zone node from the tree.\n",
    "\n",
    "    - Use PT.Zone.coordinates(zone) to extract the node coordinates cx, cy, and cz.\n",
    "\n",
    "    - Use PT.get_node_from_name(zone, 'ElementConnectivity')[1] to obtain the cell connectivity array.\n",
    "\n",
    "- Assume that every cell is a quadruple consisting of four nodes.\n",
    "\n",
    "    - Use connec_idx = 4 * np.arange(n_elem+1) to calculate the number of elements and construct the connectivity index array.\n",
    "\n",
    "- To determine the average coordinates (mean_x, mean_y, and mean_z) for every cell, use np.add.reduceat and np.take.\n",
    "\n",
    "- At the CellCenter location, create a new FlowSolution_t node called \"Centers.\"\n",
    "\n",
    "    - Enter the calculated centroids in the \"CCX,\" \"CCY,\" and \"CCZ\" fields.\n",
    "\n",
    "    - Connect this node to the zone."
   ]
  },
  {
   "cell_type": "code",
   "execution_count": 6,
   "id": "441584dd",
   "metadata": {
    "lines_to_next_cell": 1
   },
   "outputs": [],
   "source": [
    "def compute_cc_seq(tree):\n",
    "    zone = PT.get_node_from_label(tree, 'Zone_t')\n",
    "\n",
    "    cx, cy, cz = PT.Zone.coordinates(zone)\n",
    "    connec = PT.get_node_from_name(zone, 'ElementConnectivity')[1]\n",
    "\n",
    "    n_elem = connec.size // 4\n",
    "    connec_idx = 4*np.arange(n_elem+1)\n",
    "\n",
    "    mean_x = np.add.reduceat(np.take(cx, connec-1), connec_idx[:-1]) / 4\n",
    "    mean_y = np.add.reduceat(np.take(cy, connec-1), connec_idx[:-1]) / 4\n",
    "    mean_z = np.add.reduceat(np.take(cz, connec-1), connec_idx[:-1]) / 4\n",
    "\n",
    "    PT.new_FlowSolution('Centers',\n",
    "                        loc='CellCenter',\n",
    "                        fields={'CCX' : mean_x, 'CCY' : mean_y, 'CCZ' : mean_z},\n",
    "                        parent=zone)"
   ]
  },
  {
   "cell_type": "markdown",
   "id": "ecae3363",
   "metadata": {},
   "source": [
    "## Step 4 -- Calcul cells's center withn a distributed CGNS tree\n",
    "\n",
    "- To calculate cell centers (centroids) on a distributed CGNS tree, define the function compute_cc_dist(dist_tree, comm).\n",
    "\n",
    "- Within the function:\n",
    "\n",
    "    - Use PT.get_node_from_label(dist_tree, 'Zone_t') to retrieve the zone node from the distributed tree.\n",
    "\n",
    "    - Use PT.Zone.coordinates(zone) to extract the distributed node coordinates cx, cy, and cz.\n",
    "\n",
    "    - Use PT.get_node_from_name(zone, 'ElementConnectivity')[1] to obtain the element connectivity array.\n",
    "\n",
    "- Use PT.maia.getDistribution(zone, 'Vertex')[1] to obtain the vertex distribution.\n",
    "\n",
    "- Using the connectivity array, the MPI communicator comm, and the vertex distribution, create a DIndexer instance.\n",
    "\n",
    "- Assume that every cell is a quad with four nodes.\n",
    "\n",
    "    - Construct the connectivity index array by calculating the number of elements: connec_idx = 4 * np.arange(dn_elem+1).\n",
    "\n",
    "- To remap distributed coordinates to a local view, utilize the indexer.take() method:\n",
    "\n",
    "    - Use np.add.reduceat(...) / 4 to calculate the mean coordinates (mean_x, mean_y, and mean_z) for each cell.\n",
    "\n",
    "- Make a brand-new FlowSolution_t node called 'Centers' at the CellCenter location.\n",
    "\n",
    "    - Add the computed centroid coordinates as fields 'CCX', 'CCY', and 'CCZ'.\n",
    "\n",
    "    - Attach this solution node to the zone."
   ]
  },
  {
   "cell_type": "code",
   "execution_count": 7,
   "id": "94bef1bf",
   "metadata": {},
   "outputs": [],
   "source": [
    "def compute_cc_dist(dist_tree, comm):\n",
    "    zone = PT.get_node_from_label(dist_tree, 'Zone_t')\n",
    "\n",
    "    cx, cy, cz = PT.Zone.coordinates(zone)\n",
    "    connec = PT.get_node_from_name(zone, 'ElementConnectivity')[1]\n",
    "\n",
    "    vtx_distri = PT.maia.get_Distribution(zone, 'Vertex')[1]\n",
    "    indexer = DIndexer(vtx_distri, connec, comm)\n",
    "    \n",
    "\n",
    "    dn_elem = connec.size // 4\n",
    "    connec_idx = 4*np.arange(dn_elem+1)\n",
    "\n",
    "    mean_x = np.add.reduceat(indexer.take(cx), connec_idx[:-1]) / 4\n",
    "    mean_y = np.add.reduceat(indexer.take(cy), connec_idx[:-1]) / 4\n",
    "    mean_z = np.add.reduceat(indexer.take(cz), connec_idx[:-1]) / 4\n",
    "    \n",
    "    PT.new_FlowSolution('Centers',\n",
    "                        loc='CellCenter',\n",
    "                        fields={'CCX' : mean_x, 'CCY' : mean_y, 'CCZ' : mean_z},\n",
    "                        parent=zone)\n"
   ]
  },
  {
   "cell_type": "markdown",
   "id": "5a5cef25",
   "metadata": {},
   "source": [
    "## Step 5 -- use bigger meshes\n",
    "\n",
    "NB : you can try with bigger meshes, first you need to generate it using\n",
    "dist_tree = maia.factory.generate_dist_block(101, 'TETRA_4', comm)\n",
    "maia.io.dist_tree_to_file(dist_tree, 'tetra100.hdf', comm)\n",
    "\n",
    "Use the file 'tetra10.hdt' to calculate cells center with the function compute_cc_seq, then save the resulting tree to a file named sol.hdf. "
   ]
  },
  {
   "cell_type": "code",
   "execution_count": 8,
   "id": "22541382",
   "metadata": {},
   "outputs": [],
   "source": [
    "_generate_case()"
   ]
  },
  {
   "cell_type": "code",
   "execution_count": 9,
   "id": "85936370",
   "metadata": {},
   "outputs": [
    {
     "name": "stdout",
     "output_type": "stream",
     "text": [
      "\u001b[1m\u001b[38;5;33mCGNSTree\u001b[0m \u001b[38;5;246mCGNSTree_t\u001b[0m \n",
      "├───CGNSLibraryVersion \u001b[38;5;246mCGNSLibraryVersion_t\u001b[0m R4 [4.2]\n",
      "└───\u001b[1m\u001b[38;5;33mBase\u001b[0m \u001b[38;5;246mCGNSBase_t\u001b[0m I4 [3 3]\n",
      "    └───\u001b[1m\u001b[38;5;33mzone\u001b[0m \u001b[38;5;246mZone_t\u001b[0m I4 [[1331 5000    0]]\n",
      "        ├───\u001b[1m\u001b[38;5;183mZoneType\u001b[0m \u001b[38;5;246mZoneType_t\u001b[0m \"Unstructured\"\n",
      "        ├───\u001b[1m\u001b[38;5;183mGridCoordinates\u001b[0m \u001b[38;5;246mGridCoordinates_t\u001b[0m \n",
      "        │   ├───CoordinateX \u001b[38;5;246mDataArray_t\u001b[0m R8 (1331,)\n",
      "        │   ├───CoordinateY \u001b[38;5;246mDataArray_t\u001b[0m R8 (1331,)\n",
      "        │   └───CoordinateZ \u001b[38;5;246mDataArray_t\u001b[0m R8 (1331,)\n",
      "        ├───\u001b[1m\u001b[38;5;183mTETRA_4.0\u001b[0m \u001b[38;5;246mElements_t\u001b[0m I4 [10  0]\n",
      "        │   ├───ElementRange \u001b[38;5;246mIndexRange_t\u001b[0m I4 [   1 5000]\n",
      "        │   └───ElementConnectivity \u001b[38;5;246mDataArray_t\u001b[0m I4 (20000,)\n",
      "        ├───\u001b[1m\u001b[38;5;183mTRI_3.0\u001b[0m \u001b[38;5;246mElements_t\u001b[0m I4 [5 0]\n",
      "        │   ├───ElementRange \u001b[38;5;246mIndexRange_t\u001b[0m I4 [5001 6200]\n",
      "        │   └───ElementConnectivity \u001b[38;5;246mDataArray_t\u001b[0m I4 (3600,)\n",
      "        ├───\u001b[1m\u001b[38;5;183mZoneBC\u001b[0m \u001b[38;5;246mZoneBC_t\u001b[0m \n",
      "        │   ├───Zmin \u001b[38;5;246mBC_t\u001b[0m \"Null\"\n",
      "        │   │   ├───GridLocation \u001b[38;5;246mGridLocation_t\u001b[0m \"FaceCenter\"\n",
      "        │   │   └───PointList \u001b[38;5;246mIndexArray_t\u001b[0m I4 (1, 200)\n",
      "        │   ├───Zmax \u001b[38;5;246mBC_t\u001b[0m \"Null\"\n",
      "        │   │   ├───GridLocation \u001b[38;5;246mGridLocation_t\u001b[0m \"FaceCenter\"\n",
      "        │   │   └───PointList \u001b[38;5;246mIndexArray_t\u001b[0m I4 (1, 200)\n",
      "        │   ├───Xmin \u001b[38;5;246mBC_t\u001b[0m \"Null\"\n",
      "        │   │   ├───GridLocation \u001b[38;5;246mGridLocation_t\u001b[0m \"FaceCenter\"\n",
      "        │   │   └───PointList \u001b[38;5;246mIndexArray_t\u001b[0m I4 (1, 200)\n",
      "        │   ├───Xmax \u001b[38;5;246mBC_t\u001b[0m \"Null\"\n",
      "        │   │   ├───GridLocation \u001b[38;5;246mGridLocation_t\u001b[0m \"FaceCenter\"\n",
      "        │   │   └───PointList \u001b[38;5;246mIndexArray_t\u001b[0m I4 (1, 200)\n",
      "        │   ├───Ymin \u001b[38;5;246mBC_t\u001b[0m \"Null\"\n",
      "        │   │   ├───GridLocation \u001b[38;5;246mGridLocation_t\u001b[0m \"FaceCenter\"\n",
      "        │   │   └───PointList \u001b[38;5;246mIndexArray_t\u001b[0m I4 (1, 200)\n",
      "        │   └───Ymax \u001b[38;5;246mBC_t\u001b[0m \"Null\"\n",
      "        │       ├───GridLocation \u001b[38;5;246mGridLocation_t\u001b[0m \"FaceCenter\"\n",
      "        │       └───PointList \u001b[38;5;246mIndexArray_t\u001b[0m I4 (1, 200)\n",
      "        └───\u001b[1m\u001b[38;5;183mCenters\u001b[0m \u001b[38;5;246mFlowSolution_t\u001b[0m \n",
      "            ├───GridLocation \u001b[38;5;246mGridLocation_t\u001b[0m \"CellCenter\"\n",
      "            ├───CCX \u001b[38;5;246mDataArray_t\u001b[0m R8 (5000,)\n",
      "            ├───CCY \u001b[38;5;246mDataArray_t\u001b[0m R8 (5000,)\n",
      "            └───CCZ \u001b[38;5;246mDataArray_t\u001b[0m R8 (5000,)\n"
     ]
    }
   ],
   "source": [
    "# Sequential\n",
    "if comm.rank == 0:\n",
    "    tree = maia.io.read_tree(FILENAME)\n",
    "    compute_cc_seq(tree)\n",
    "    maia.io.write_tree(tree, 'sol.hdf')\n",
    "    PT.print_tree(tree)"
   ]
  },
  {
   "cell_type": "markdown",
   "id": "1a06ddfd",
   "metadata": {},
   "source": [
    "Now, we want to use the same file 'tetra10.hdf' with parallel partiotioned. "
   ]
  },
  {
   "cell_type": "code",
   "execution_count": 10,
   "id": "c8108060",
   "metadata": {},
   "outputs": [
    {
     "name": "stdout",
     "output_type": "stream",
     "text": [
      "Distributed read of file /home/jcoulet/Public/maia_training/MESHES/tetra10.hdf...\n",
      "Read completed (0.06 s) -- Size of dist_tree for current rank is 143.7KiB (Σ=143.7KiB)\n",
      "Partitioning tree of 1 initial block...\n",
      "Partitioning completed (0.08 s) -- Nb of cells for current rank is 5.0K (Σ=5.0K)\n",
      "Distributed write of a 262.2KiB dist_tree (Σ=262.2KiB)...\n",
      "\u001b[1m\u001b[38;5;33mCGNSTree\u001b[0m \u001b[38;5;246mCGNSTree_t\u001b[0m \n",
      "Write completed [sol.hdf] (0.53 s)\n",
      "├───CGNSLibraryVersion \u001b[38;5;246mCGNSLibraryVersion_t\u001b[0m R4 [4.2]\n",
      "└───\u001b[1m\u001b[38;5;33mBase\u001b[0m \u001b[38;5;246mCGNSBase_t\u001b[0m I4 [3 3]\n",
      "    └───\u001b[1m\u001b[38;5;33mzone\u001b[0m \u001b[38;5;246mZone_t\u001b[0m I4 [[1331 5000    0]]\n",
      "        ├───\u001b[1m\u001b[38;5;183mZoneType\u001b[0m \u001b[38;5;246mZoneType_t\u001b[0m \"Unstructured\"\n",
      "        ├───\u001b[1m\u001b[38;5;183mGridCoordinates\u001b[0m \u001b[38;5;246mGridCoordinates_t\u001b[0m \n",
      "        │   ├───CoordinateX \u001b[38;5;246mDataArray_t\u001b[0m R8 (1331,)\n",
      "        │   ├───CoordinateY \u001b[38;5;246mDataArray_t\u001b[0m R8 (1331,)\n",
      "        │   └───CoordinateZ \u001b[38;5;246mDataArray_t\u001b[0m R8 (1331,)\n",
      "        ├───\u001b[1m\u001b[38;5;183mTETRA_4.0\u001b[0m \u001b[38;5;246mElements_t\u001b[0m I4 [10  0]\n",
      "        │   ├───ElementRange \u001b[38;5;246mIndexRange_t\u001b[0m I4 [   1 5000]\n",
      "        │   ├───ElementConnectivity \u001b[38;5;246mDataArray_t\u001b[0m I4 (20000,)\n",
      "        │   └───:CGNS#Distribution \u001b[38;5;246mUserDefinedData_t\u001b[0m \n",
      "        │       └───Element \u001b[38;5;246mDataArray_t\u001b[0m I4 [   0 5000 5000]\n",
      "        ├───\u001b[1m\u001b[38;5;183mTRI_3.0\u001b[0m \u001b[38;5;246mElements_t\u001b[0m I4 [5 0]\n",
      "        │   ├───ElementRange \u001b[38;5;246mIndexRange_t\u001b[0m I4 [5001 6200]\n",
      "        │   ├───ElementConnectivity \u001b[38;5;246mDataArray_t\u001b[0m I4 (3600,)\n",
      "        │   └───:CGNS#Distribution \u001b[38;5;246mUserDefinedData_t\u001b[0m \n",
      "        │       └───Element \u001b[38;5;246mDataArray_t\u001b[0m I4 [   0 1200 1200]\n",
      "        ├───\u001b[1m\u001b[38;5;183mZoneBC\u001b[0m \u001b[38;5;246mZoneBC_t\u001b[0m \n",
      "        │   ├───Zmin \u001b[38;5;246mBC_t\u001b[0m \"Null\"\n",
      "        │   │   ├───GridLocation \u001b[38;5;246mGridLocation_t\u001b[0m \"FaceCenter\"\n",
      "        │   │   ├───PointList \u001b[38;5;246mIndexArray_t\u001b[0m I4 (1, 200)\n",
      "        │   │   └───:CGNS#Distribution \u001b[38;5;246mUserDefinedData_t\u001b[0m \n",
      "        │   │       └───Index \u001b[38;5;246mDataArray_t\u001b[0m I4 [  0 200 200]\n",
      "        │   ├───Zmax \u001b[38;5;246mBC_t\u001b[0m \"Null\"\n",
      "        │   │   ├───GridLocation \u001b[38;5;246mGridLocation_t\u001b[0m \"FaceCenter\"\n",
      "        │   │   ├───PointList \u001b[38;5;246mIndexArray_t\u001b[0m I4 (1, 200)\n",
      "        │   │   └───:CGNS#Distribution \u001b[38;5;246mUserDefinedData_t\u001b[0m \n",
      "        │   │       └───Index \u001b[38;5;246mDataArray_t\u001b[0m I4 [  0 200 200]\n",
      "        │   ├───Xmin \u001b[38;5;246mBC_t\u001b[0m \"Null\"\n",
      "        │   │   ├───GridLocation \u001b[38;5;246mGridLocation_t\u001b[0m \"FaceCenter\"\n",
      "        │   │   ├───PointList \u001b[38;5;246mIndexArray_t\u001b[0m I4 (1, 200)\n",
      "        │   │   └───:CGNS#Distribution \u001b[38;5;246mUserDefinedData_t\u001b[0m \n",
      "        │   │       └───Index \u001b[38;5;246mDataArray_t\u001b[0m I4 [  0 200 200]\n",
      "        │   ├───Xmax \u001b[38;5;246mBC_t\u001b[0m \"Null\"\n",
      "        │   │   ├───GridLocation \u001b[38;5;246mGridLocation_t\u001b[0m \"FaceCenter\"\n",
      "        │   │   ├───PointList \u001b[38;5;246mIndexArray_t\u001b[0m I4 (1, 200)\n",
      "        │   │   └───:CGNS#Distribution \u001b[38;5;246mUserDefinedData_t\u001b[0m \n",
      "        │   │       └───Index \u001b[38;5;246mDataArray_t\u001b[0m I4 [  0 200 200]\n",
      "        │   ├───Ymin \u001b[38;5;246mBC_t\u001b[0m \"Null\"\n",
      "        │   │   ├───GridLocation \u001b[38;5;246mGridLocation_t\u001b[0m \"FaceCenter\"\n",
      "        │   │   ├───PointList \u001b[38;5;246mIndexArray_t\u001b[0m I4 (1, 200)\n",
      "        │   │   └───:CGNS#Distribution \u001b[38;5;246mUserDefinedData_t\u001b[0m \n",
      "        │   │       └───Index \u001b[38;5;246mDataArray_t\u001b[0m I4 [  0 200 200]\n",
      "        │   └───Ymax \u001b[38;5;246mBC_t\u001b[0m \"Null\"\n",
      "        │       ├───GridLocation \u001b[38;5;246mGridLocation_t\u001b[0m \"FaceCenter\"\n",
      "        │       ├───PointList \u001b[38;5;246mIndexArray_t\u001b[0m I4 (1, 200)\n",
      "        │       └───:CGNS#Distribution \u001b[38;5;246mUserDefinedData_t\u001b[0m \n",
      "        │           └───Index \u001b[38;5;246mDataArray_t\u001b[0m I4 [  0 200 200]\n",
      "        ├───\u001b[1m\u001b[38;5;183m:CGNS#Distribution\u001b[0m \u001b[38;5;246mUserDefinedData_t\u001b[0m \n",
      "        │   ├───Vertex \u001b[38;5;246mDataArray_t\u001b[0m I4 [   0 1331 1331]\n",
      "        │   └───Cell \u001b[38;5;246mDataArray_t\u001b[0m I4 [   0 5000 5000]\n",
      "        └───\u001b[1m\u001b[38;5;183mCenters\u001b[0m \u001b[38;5;246mFlowSolution_t\u001b[0m \n",
      "            ├───GridLocation \u001b[38;5;246mGridLocation_t\u001b[0m \"CellCenter\"\n",
      "            ├───CCX \u001b[38;5;246mDataArray_t\u001b[0m R8 (5000,)\n",
      "            ├───CCY \u001b[38;5;246mDataArray_t\u001b[0m R8 (5000,)\n",
      "            └───CCZ \u001b[38;5;246mDataArray_t\u001b[0m R8 (5000,)\n"
     ]
    }
   ],
   "source": [
    "tree = maia.io.file_to_dist_tree(FILENAME, comm)\n",
    "ptree = maia.factory.partition_dist_tree(tree, comm)\n",
    "compute_cc_seq(ptree)\n",
    "maia.transfer.part_tree_to_dist_tree_all(tree, ptree, comm)\n",
    "maia.io.dist_tree_to_file(tree, 'sol.hdf', comm)\n",
    "PT.print_tree(tree)"
   ]
  },
  {
   "cell_type": "markdown",
   "id": "02293335",
   "metadata": {},
   "source": [
    "Now, we want to use the same file 'tetra10.hdf' with parallel distributed."
   ]
  },
  {
   "cell_type": "code",
   "execution_count": 11,
   "id": "8b7011c5",
   "metadata": {},
   "outputs": [
    {
     "name": "stdout",
     "output_type": "stream",
     "text": [
      "Distributed read of file /home/jcoulet/Public/maia_training/MESHES/tetra10.hdf...\n",
      "Read completed (0.07 s) -- Size of dist_tree for current rank is 143.7KiB (Σ=143.7KiB)\n",
      "Distributed write of a 262.2KiB dist_tree (Σ=262.2KiB)...\n",
      "\u001b[1m\u001b[38;5;33mCGNSTree\u001b[0m \u001b[38;5;246mCGNSTree_t\u001b[0m \n",
      "Write completed [sol.hdf] (0.53 s)\n",
      "├───CGNSLibraryVersion \u001b[38;5;246mCGNSLibraryVersion_t\u001b[0m R4 [4.2]\n",
      "└───\u001b[1m\u001b[38;5;33mBase\u001b[0m \u001b[38;5;246mCGNSBase_t\u001b[0m I4 [3 3]\n",
      "    └───\u001b[1m\u001b[38;5;33mzone\u001b[0m \u001b[38;5;246mZone_t\u001b[0m I4 [[1331 5000    0]]\n",
      "        ├───\u001b[1m\u001b[38;5;183mZoneType\u001b[0m \u001b[38;5;246mZoneType_t\u001b[0m \"Unstructured\"\n",
      "        ├───\u001b[1m\u001b[38;5;183mGridCoordinates\u001b[0m \u001b[38;5;246mGridCoordinates_t\u001b[0m \n",
      "        │   ├───CoordinateX \u001b[38;5;246mDataArray_t\u001b[0m R8 (1331,)\n",
      "        │   ├───CoordinateY \u001b[38;5;246mDataArray_t\u001b[0m R8 (1331,)\n",
      "        │   └───CoordinateZ \u001b[38;5;246mDataArray_t\u001b[0m R8 (1331,)\n",
      "        ├───\u001b[1m\u001b[38;5;183mTETRA_4.0\u001b[0m \u001b[38;5;246mElements_t\u001b[0m I4 [10  0]\n",
      "        │   ├───ElementRange \u001b[38;5;246mIndexRange_t\u001b[0m I4 [   1 5000]\n",
      "        │   ├───ElementConnectivity \u001b[38;5;246mDataArray_t\u001b[0m I4 (20000,)\n",
      "        │   └───:CGNS#Distribution \u001b[38;5;246mUserDefinedData_t\u001b[0m \n",
      "        │       └───Element \u001b[38;5;246mDataArray_t\u001b[0m I4 [   0 5000 5000]\n",
      "        ├───\u001b[1m\u001b[38;5;183mTRI_3.0\u001b[0m \u001b[38;5;246mElements_t\u001b[0m I4 [5 0]\n",
      "        │   ├───ElementRange \u001b[38;5;246mIndexRange_t\u001b[0m I4 [5001 6200]\n",
      "        │   ├───ElementConnectivity \u001b[38;5;246mDataArray_t\u001b[0m I4 (3600,)\n",
      "        │   └───:CGNS#Distribution \u001b[38;5;246mUserDefinedData_t\u001b[0m \n",
      "        │       └───Element \u001b[38;5;246mDataArray_t\u001b[0m I4 [   0 1200 1200]\n",
      "        ├───\u001b[1m\u001b[38;5;183mZoneBC\u001b[0m \u001b[38;5;246mZoneBC_t\u001b[0m \n",
      "        │   ├───Zmin \u001b[38;5;246mBC_t\u001b[0m \"Null\"\n",
      "        │   │   ├───GridLocation \u001b[38;5;246mGridLocation_t\u001b[0m \"FaceCenter\"\n",
      "        │   │   ├───PointList \u001b[38;5;246mIndexArray_t\u001b[0m I4 (1, 200)\n",
      "        │   │   └───:CGNS#Distribution \u001b[38;5;246mUserDefinedData_t\u001b[0m \n",
      "        │   │       └───Index \u001b[38;5;246mDataArray_t\u001b[0m I4 [  0 200 200]\n",
      "        │   ├───Zmax \u001b[38;5;246mBC_t\u001b[0m \"Null\"\n",
      "        │   │   ├───GridLocation \u001b[38;5;246mGridLocation_t\u001b[0m \"FaceCenter\"\n",
      "        │   │   ├───PointList \u001b[38;5;246mIndexArray_t\u001b[0m I4 (1, 200)\n",
      "        │   │   └───:CGNS#Distribution \u001b[38;5;246mUserDefinedData_t\u001b[0m \n",
      "        │   │       └───Index \u001b[38;5;246mDataArray_t\u001b[0m I4 [  0 200 200]\n",
      "        │   ├───Xmin \u001b[38;5;246mBC_t\u001b[0m \"Null\"\n",
      "        │   │   ├───GridLocation \u001b[38;5;246mGridLocation_t\u001b[0m \"FaceCenter\"\n",
      "        │   │   ├───PointList \u001b[38;5;246mIndexArray_t\u001b[0m I4 (1, 200)\n",
      "        │   │   └───:CGNS#Distribution \u001b[38;5;246mUserDefinedData_t\u001b[0m \n",
      "        │   │       └───Index \u001b[38;5;246mDataArray_t\u001b[0m I4 [  0 200 200]\n",
      "        │   ├───Xmax \u001b[38;5;246mBC_t\u001b[0m \"Null\"\n",
      "        │   │   ├───GridLocation \u001b[38;5;246mGridLocation_t\u001b[0m \"FaceCenter\"\n",
      "        │   │   ├───PointList \u001b[38;5;246mIndexArray_t\u001b[0m I4 (1, 200)\n",
      "        │   │   └───:CGNS#Distribution \u001b[38;5;246mUserDefinedData_t\u001b[0m \n",
      "        │   │       └───Index \u001b[38;5;246mDataArray_t\u001b[0m I4 [  0 200 200]\n",
      "        │   ├───Ymin \u001b[38;5;246mBC_t\u001b[0m \"Null\"\n",
      "        │   │   ├───GridLocation \u001b[38;5;246mGridLocation_t\u001b[0m \"FaceCenter\"\n",
      "        │   │   ├───PointList \u001b[38;5;246mIndexArray_t\u001b[0m I4 (1, 200)\n",
      "        │   │   └───:CGNS#Distribution \u001b[38;5;246mUserDefinedData_t\u001b[0m \n",
      "        │   │       └───Index \u001b[38;5;246mDataArray_t\u001b[0m I4 [  0 200 200]\n",
      "        │   └───Ymax \u001b[38;5;246mBC_t\u001b[0m \"Null\"\n",
      "        │       ├───GridLocation \u001b[38;5;246mGridLocation_t\u001b[0m \"FaceCenter\"\n",
      "        │       ├───PointList \u001b[38;5;246mIndexArray_t\u001b[0m I4 (1, 200)\n",
      "        │       └───:CGNS#Distribution \u001b[38;5;246mUserDefinedData_t\u001b[0m \n",
      "        │           └───Index \u001b[38;5;246mDataArray_t\u001b[0m I4 [  0 200 200]\n",
      "        ├───\u001b[1m\u001b[38;5;183m:CGNS#Distribution\u001b[0m \u001b[38;5;246mUserDefinedData_t\u001b[0m \n",
      "        │   ├───Vertex \u001b[38;5;246mDataArray_t\u001b[0m I4 [   0 1331 1331]\n",
      "        │   └───Cell \u001b[38;5;246mDataArray_t\u001b[0m I4 [   0 5000 5000]\n",
      "        └───\u001b[1m\u001b[38;5;183mCenters\u001b[0m \u001b[38;5;246mFlowSolution_t\u001b[0m \n",
      "            ├───GridLocation \u001b[38;5;246mGridLocation_t\u001b[0m \"CellCenter\"\n",
      "            ├───CCX \u001b[38;5;246mDataArray_t\u001b[0m R8 (5000,)\n",
      "            ├───CCY \u001b[38;5;246mDataArray_t\u001b[0m R8 (5000,)\n",
      "            └───CCZ \u001b[38;5;246mDataArray_t\u001b[0m R8 (5000,)\n"
     ]
    }
   ],
   "source": [
    "tree = maia.io.file_to_dist_tree(FILENAME, comm)\n",
    "compute_cc_dist(tree, comm)\n",
    "maia.io.dist_tree_to_file(tree, 'sol.hdf', comm)\n",
    "PT.print_tree(tree)"
   ]
  }
 ],
 "metadata": {
  "celltoolbar": "Tags",
  "jupytext": {
   "cell_metadata_filter": "-all",
   "main_language": "python",
   "notebook_metadata_filter": "-all"
  },
  "kernelspec": {
   "display_name": "Python 3",
   "language": "python",
   "name": "python3"
  },
  "language_info": {
   "codemirror_mode": {
    "name": "ipython",
    "version": 3
   },
   "file_extension": ".py",
   "mimetype": "text/x-python",
   "name": "python",
   "nbconvert_exporter": "python",
   "pygments_lexer": "ipython3",
   "version": "3.8.14"
  },
  "widgets": {
   "application/vnd.jupyter.widget-state+json": {
    "state": {},
    "version_major": 2,
    "version_minor": 0
   }
  }
 },
 "nbformat": 4,
 "nbformat_minor": 5
}
